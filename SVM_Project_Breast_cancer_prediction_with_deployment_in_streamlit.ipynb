{
  "cells": [
    {
      "cell_type": "code",
      "execution_count": null,
      "id": "91f7142f",
      "metadata": {
        "id": "91f7142f"
      },
      "outputs": [],
      "source": [
        "import numpy as np\n",
        "import pandas as pd\n",
        "import matplotlib.pyplot as plt\n",
        "import seaborn as sns"
      ]
    },
    {
      "cell_type": "code",
      "execution_count": null,
      "id": "ccce83aa",
      "metadata": {
        "colab": {
          "base_uri": "https://localhost:8080/",
          "height": 505
        },
        "id": "ccce83aa",
        "outputId": "e9f0c7c7-f953-4d47-9202-fb3c6dc5d892"
      },
      "outputs": [
        {
          "output_type": "execute_result",
          "data": {
            "text/plain": [
              "           id diagnosis  radius_mean  texture_mean  perimeter_mean  area_mean  \\\n",
              "0      842302         M        17.99         10.38          122.80     1001.0   \n",
              "1      842517         M        20.57         17.77          132.90     1326.0   \n",
              "2    84300903         M        19.69         21.25          130.00     1203.0   \n",
              "3    84348301         M        11.42         20.38           77.58      386.1   \n",
              "4    84358402         M        20.29         14.34          135.10     1297.0   \n",
              "..        ...       ...          ...           ...             ...        ...   \n",
              "564    926424         M        21.56         22.39          142.00     1479.0   \n",
              "565    926682         M        20.13         28.25          131.20     1261.0   \n",
              "566    926954         M        16.60         28.08          108.30      858.1   \n",
              "567    927241         M        20.60         29.33          140.10     1265.0   \n",
              "568     92751         B         7.76         24.54           47.92      181.0   \n",
              "\n",
              "     smoothness_mean  compactness_mean  concavity_mean  concave points_mean  \\\n",
              "0            0.11840           0.27760         0.30010              0.14710   \n",
              "1            0.08474           0.07864         0.08690              0.07017   \n",
              "2            0.10960           0.15990         0.19740              0.12790   \n",
              "3            0.14250           0.28390         0.24140              0.10520   \n",
              "4            0.10030           0.13280         0.19800              0.10430   \n",
              "..               ...               ...             ...                  ...   \n",
              "564          0.11100           0.11590         0.24390              0.13890   \n",
              "565          0.09780           0.10340         0.14400              0.09791   \n",
              "566          0.08455           0.10230         0.09251              0.05302   \n",
              "567          0.11780           0.27700         0.35140              0.15200   \n",
              "568          0.05263           0.04362         0.00000              0.00000   \n",
              "\n",
              "     ...  texture_worst  perimeter_worst  area_worst  smoothness_worst  \\\n",
              "0    ...          17.33           184.60      2019.0           0.16220   \n",
              "1    ...          23.41           158.80      1956.0           0.12380   \n",
              "2    ...          25.53           152.50      1709.0           0.14440   \n",
              "3    ...          26.50            98.87       567.7           0.20980   \n",
              "4    ...          16.67           152.20      1575.0           0.13740   \n",
              "..   ...            ...              ...         ...               ...   \n",
              "564  ...          26.40           166.10      2027.0           0.14100   \n",
              "565  ...          38.25           155.00      1731.0           0.11660   \n",
              "566  ...          34.12           126.70      1124.0           0.11390   \n",
              "567  ...          39.42           184.60      1821.0           0.16500   \n",
              "568  ...          30.37            59.16       268.6           0.08996   \n",
              "\n",
              "     compactness_worst  concavity_worst  concave points_worst  symmetry_worst  \\\n",
              "0              0.66560           0.7119                0.2654          0.4601   \n",
              "1              0.18660           0.2416                0.1860          0.2750   \n",
              "2              0.42450           0.4504                0.2430          0.3613   \n",
              "3              0.86630           0.6869                0.2575          0.6638   \n",
              "4              0.20500           0.4000                0.1625          0.2364   \n",
              "..                 ...              ...                   ...             ...   \n",
              "564            0.21130           0.4107                0.2216          0.2060   \n",
              "565            0.19220           0.3215                0.1628          0.2572   \n",
              "566            0.30940           0.3403                0.1418          0.2218   \n",
              "567            0.86810           0.9387                0.2650          0.4087   \n",
              "568            0.06444           0.0000                0.0000          0.2871   \n",
              "\n",
              "     fractal_dimension_worst  Unnamed: 32  \n",
              "0                    0.11890          NaN  \n",
              "1                    0.08902          NaN  \n",
              "2                    0.08758          NaN  \n",
              "3                    0.17300          NaN  \n",
              "4                    0.07678          NaN  \n",
              "..                       ...          ...  \n",
              "564                  0.07115          NaN  \n",
              "565                  0.06637          NaN  \n",
              "566                  0.07820          NaN  \n",
              "567                  0.12400          NaN  \n",
              "568                  0.07039          NaN  \n",
              "\n",
              "[569 rows x 33 columns]"
            ],
            "text/html": [
              "\n",
              "  <div id=\"df-f431d628-afa7-4989-bcb8-97eafb99d1dc\">\n",
              "    <div class=\"colab-df-container\">\n",
              "      <div>\n",
              "<style scoped>\n",
              "    .dataframe tbody tr th:only-of-type {\n",
              "        vertical-align: middle;\n",
              "    }\n",
              "\n",
              "    .dataframe tbody tr th {\n",
              "        vertical-align: top;\n",
              "    }\n",
              "\n",
              "    .dataframe thead th {\n",
              "        text-align: right;\n",
              "    }\n",
              "</style>\n",
              "<table border=\"1\" class=\"dataframe\">\n",
              "  <thead>\n",
              "    <tr style=\"text-align: right;\">\n",
              "      <th></th>\n",
              "      <th>id</th>\n",
              "      <th>diagnosis</th>\n",
              "      <th>radius_mean</th>\n",
              "      <th>texture_mean</th>\n",
              "      <th>perimeter_mean</th>\n",
              "      <th>area_mean</th>\n",
              "      <th>smoothness_mean</th>\n",
              "      <th>compactness_mean</th>\n",
              "      <th>concavity_mean</th>\n",
              "      <th>concave points_mean</th>\n",
              "      <th>...</th>\n",
              "      <th>texture_worst</th>\n",
              "      <th>perimeter_worst</th>\n",
              "      <th>area_worst</th>\n",
              "      <th>smoothness_worst</th>\n",
              "      <th>compactness_worst</th>\n",
              "      <th>concavity_worst</th>\n",
              "      <th>concave points_worst</th>\n",
              "      <th>symmetry_worst</th>\n",
              "      <th>fractal_dimension_worst</th>\n",
              "      <th>Unnamed: 32</th>\n",
              "    </tr>\n",
              "  </thead>\n",
              "  <tbody>\n",
              "    <tr>\n",
              "      <th>0</th>\n",
              "      <td>842302</td>\n",
              "      <td>M</td>\n",
              "      <td>17.99</td>\n",
              "      <td>10.38</td>\n",
              "      <td>122.80</td>\n",
              "      <td>1001.0</td>\n",
              "      <td>0.11840</td>\n",
              "      <td>0.27760</td>\n",
              "      <td>0.30010</td>\n",
              "      <td>0.14710</td>\n",
              "      <td>...</td>\n",
              "      <td>17.33</td>\n",
              "      <td>184.60</td>\n",
              "      <td>2019.0</td>\n",
              "      <td>0.16220</td>\n",
              "      <td>0.66560</td>\n",
              "      <td>0.7119</td>\n",
              "      <td>0.2654</td>\n",
              "      <td>0.4601</td>\n",
              "      <td>0.11890</td>\n",
              "      <td>NaN</td>\n",
              "    </tr>\n",
              "    <tr>\n",
              "      <th>1</th>\n",
              "      <td>842517</td>\n",
              "      <td>M</td>\n",
              "      <td>20.57</td>\n",
              "      <td>17.77</td>\n",
              "      <td>132.90</td>\n",
              "      <td>1326.0</td>\n",
              "      <td>0.08474</td>\n",
              "      <td>0.07864</td>\n",
              "      <td>0.08690</td>\n",
              "      <td>0.07017</td>\n",
              "      <td>...</td>\n",
              "      <td>23.41</td>\n",
              "      <td>158.80</td>\n",
              "      <td>1956.0</td>\n",
              "      <td>0.12380</td>\n",
              "      <td>0.18660</td>\n",
              "      <td>0.2416</td>\n",
              "      <td>0.1860</td>\n",
              "      <td>0.2750</td>\n",
              "      <td>0.08902</td>\n",
              "      <td>NaN</td>\n",
              "    </tr>\n",
              "    <tr>\n",
              "      <th>2</th>\n",
              "      <td>84300903</td>\n",
              "      <td>M</td>\n",
              "      <td>19.69</td>\n",
              "      <td>21.25</td>\n",
              "      <td>130.00</td>\n",
              "      <td>1203.0</td>\n",
              "      <td>0.10960</td>\n",
              "      <td>0.15990</td>\n",
              "      <td>0.19740</td>\n",
              "      <td>0.12790</td>\n",
              "      <td>...</td>\n",
              "      <td>25.53</td>\n",
              "      <td>152.50</td>\n",
              "      <td>1709.0</td>\n",
              "      <td>0.14440</td>\n",
              "      <td>0.42450</td>\n",
              "      <td>0.4504</td>\n",
              "      <td>0.2430</td>\n",
              "      <td>0.3613</td>\n",
              "      <td>0.08758</td>\n",
              "      <td>NaN</td>\n",
              "    </tr>\n",
              "    <tr>\n",
              "      <th>3</th>\n",
              "      <td>84348301</td>\n",
              "      <td>M</td>\n",
              "      <td>11.42</td>\n",
              "      <td>20.38</td>\n",
              "      <td>77.58</td>\n",
              "      <td>386.1</td>\n",
              "      <td>0.14250</td>\n",
              "      <td>0.28390</td>\n",
              "      <td>0.24140</td>\n",
              "      <td>0.10520</td>\n",
              "      <td>...</td>\n",
              "      <td>26.50</td>\n",
              "      <td>98.87</td>\n",
              "      <td>567.7</td>\n",
              "      <td>0.20980</td>\n",
              "      <td>0.86630</td>\n",
              "      <td>0.6869</td>\n",
              "      <td>0.2575</td>\n",
              "      <td>0.6638</td>\n",
              "      <td>0.17300</td>\n",
              "      <td>NaN</td>\n",
              "    </tr>\n",
              "    <tr>\n",
              "      <th>4</th>\n",
              "      <td>84358402</td>\n",
              "      <td>M</td>\n",
              "      <td>20.29</td>\n",
              "      <td>14.34</td>\n",
              "      <td>135.10</td>\n",
              "      <td>1297.0</td>\n",
              "      <td>0.10030</td>\n",
              "      <td>0.13280</td>\n",
              "      <td>0.19800</td>\n",
              "      <td>0.10430</td>\n",
              "      <td>...</td>\n",
              "      <td>16.67</td>\n",
              "      <td>152.20</td>\n",
              "      <td>1575.0</td>\n",
              "      <td>0.13740</td>\n",
              "      <td>0.20500</td>\n",
              "      <td>0.4000</td>\n",
              "      <td>0.1625</td>\n",
              "      <td>0.2364</td>\n",
              "      <td>0.07678</td>\n",
              "      <td>NaN</td>\n",
              "    </tr>\n",
              "    <tr>\n",
              "      <th>...</th>\n",
              "      <td>...</td>\n",
              "      <td>...</td>\n",
              "      <td>...</td>\n",
              "      <td>...</td>\n",
              "      <td>...</td>\n",
              "      <td>...</td>\n",
              "      <td>...</td>\n",
              "      <td>...</td>\n",
              "      <td>...</td>\n",
              "      <td>...</td>\n",
              "      <td>...</td>\n",
              "      <td>...</td>\n",
              "      <td>...</td>\n",
              "      <td>...</td>\n",
              "      <td>...</td>\n",
              "      <td>...</td>\n",
              "      <td>...</td>\n",
              "      <td>...</td>\n",
              "      <td>...</td>\n",
              "      <td>...</td>\n",
              "      <td>...</td>\n",
              "    </tr>\n",
              "    <tr>\n",
              "      <th>564</th>\n",
              "      <td>926424</td>\n",
              "      <td>M</td>\n",
              "      <td>21.56</td>\n",
              "      <td>22.39</td>\n",
              "      <td>142.00</td>\n",
              "      <td>1479.0</td>\n",
              "      <td>0.11100</td>\n",
              "      <td>0.11590</td>\n",
              "      <td>0.24390</td>\n",
              "      <td>0.13890</td>\n",
              "      <td>...</td>\n",
              "      <td>26.40</td>\n",
              "      <td>166.10</td>\n",
              "      <td>2027.0</td>\n",
              "      <td>0.14100</td>\n",
              "      <td>0.21130</td>\n",
              "      <td>0.4107</td>\n",
              "      <td>0.2216</td>\n",
              "      <td>0.2060</td>\n",
              "      <td>0.07115</td>\n",
              "      <td>NaN</td>\n",
              "    </tr>\n",
              "    <tr>\n",
              "      <th>565</th>\n",
              "      <td>926682</td>\n",
              "      <td>M</td>\n",
              "      <td>20.13</td>\n",
              "      <td>28.25</td>\n",
              "      <td>131.20</td>\n",
              "      <td>1261.0</td>\n",
              "      <td>0.09780</td>\n",
              "      <td>0.10340</td>\n",
              "      <td>0.14400</td>\n",
              "      <td>0.09791</td>\n",
              "      <td>...</td>\n",
              "      <td>38.25</td>\n",
              "      <td>155.00</td>\n",
              "      <td>1731.0</td>\n",
              "      <td>0.11660</td>\n",
              "      <td>0.19220</td>\n",
              "      <td>0.3215</td>\n",
              "      <td>0.1628</td>\n",
              "      <td>0.2572</td>\n",
              "      <td>0.06637</td>\n",
              "      <td>NaN</td>\n",
              "    </tr>\n",
              "    <tr>\n",
              "      <th>566</th>\n",
              "      <td>926954</td>\n",
              "      <td>M</td>\n",
              "      <td>16.60</td>\n",
              "      <td>28.08</td>\n",
              "      <td>108.30</td>\n",
              "      <td>858.1</td>\n",
              "      <td>0.08455</td>\n",
              "      <td>0.10230</td>\n",
              "      <td>0.09251</td>\n",
              "      <td>0.05302</td>\n",
              "      <td>...</td>\n",
              "      <td>34.12</td>\n",
              "      <td>126.70</td>\n",
              "      <td>1124.0</td>\n",
              "      <td>0.11390</td>\n",
              "      <td>0.30940</td>\n",
              "      <td>0.3403</td>\n",
              "      <td>0.1418</td>\n",
              "      <td>0.2218</td>\n",
              "      <td>0.07820</td>\n",
              "      <td>NaN</td>\n",
              "    </tr>\n",
              "    <tr>\n",
              "      <th>567</th>\n",
              "      <td>927241</td>\n",
              "      <td>M</td>\n",
              "      <td>20.60</td>\n",
              "      <td>29.33</td>\n",
              "      <td>140.10</td>\n",
              "      <td>1265.0</td>\n",
              "      <td>0.11780</td>\n",
              "      <td>0.27700</td>\n",
              "      <td>0.35140</td>\n",
              "      <td>0.15200</td>\n",
              "      <td>...</td>\n",
              "      <td>39.42</td>\n",
              "      <td>184.60</td>\n",
              "      <td>1821.0</td>\n",
              "      <td>0.16500</td>\n",
              "      <td>0.86810</td>\n",
              "      <td>0.9387</td>\n",
              "      <td>0.2650</td>\n",
              "      <td>0.4087</td>\n",
              "      <td>0.12400</td>\n",
              "      <td>NaN</td>\n",
              "    </tr>\n",
              "    <tr>\n",
              "      <th>568</th>\n",
              "      <td>92751</td>\n",
              "      <td>B</td>\n",
              "      <td>7.76</td>\n",
              "      <td>24.54</td>\n",
              "      <td>47.92</td>\n",
              "      <td>181.0</td>\n",
              "      <td>0.05263</td>\n",
              "      <td>0.04362</td>\n",
              "      <td>0.00000</td>\n",
              "      <td>0.00000</td>\n",
              "      <td>...</td>\n",
              "      <td>30.37</td>\n",
              "      <td>59.16</td>\n",
              "      <td>268.6</td>\n",
              "      <td>0.08996</td>\n",
              "      <td>0.06444</td>\n",
              "      <td>0.0000</td>\n",
              "      <td>0.0000</td>\n",
              "      <td>0.2871</td>\n",
              "      <td>0.07039</td>\n",
              "      <td>NaN</td>\n",
              "    </tr>\n",
              "  </tbody>\n",
              "</table>\n",
              "<p>569 rows × 33 columns</p>\n",
              "</div>\n",
              "      <button class=\"colab-df-convert\" onclick=\"convertToInteractive('df-f431d628-afa7-4989-bcb8-97eafb99d1dc')\"\n",
              "              title=\"Convert this dataframe to an interactive table.\"\n",
              "              style=\"display:none;\">\n",
              "        \n",
              "  <svg xmlns=\"http://www.w3.org/2000/svg\" height=\"24px\"viewBox=\"0 0 24 24\"\n",
              "       width=\"24px\">\n",
              "    <path d=\"M0 0h24v24H0V0z\" fill=\"none\"/>\n",
              "    <path d=\"M18.56 5.44l.94 2.06.94-2.06 2.06-.94-2.06-.94-.94-2.06-.94 2.06-2.06.94zm-11 1L8.5 8.5l.94-2.06 2.06-.94-2.06-.94L8.5 2.5l-.94 2.06-2.06.94zm10 10l.94 2.06.94-2.06 2.06-.94-2.06-.94-.94-2.06-.94 2.06-2.06.94z\"/><path d=\"M17.41 7.96l-1.37-1.37c-.4-.4-.92-.59-1.43-.59-.52 0-1.04.2-1.43.59L10.3 9.45l-7.72 7.72c-.78.78-.78 2.05 0 2.83L4 21.41c.39.39.9.59 1.41.59.51 0 1.02-.2 1.41-.59l7.78-7.78 2.81-2.81c.8-.78.8-2.07 0-2.86zM5.41 20L4 18.59l7.72-7.72 1.47 1.35L5.41 20z\"/>\n",
              "  </svg>\n",
              "      </button>\n",
              "      \n",
              "  <style>\n",
              "    .colab-df-container {\n",
              "      display:flex;\n",
              "      flex-wrap:wrap;\n",
              "      gap: 12px;\n",
              "    }\n",
              "\n",
              "    .colab-df-convert {\n",
              "      background-color: #E8F0FE;\n",
              "      border: none;\n",
              "      border-radius: 50%;\n",
              "      cursor: pointer;\n",
              "      display: none;\n",
              "      fill: #1967D2;\n",
              "      height: 32px;\n",
              "      padding: 0 0 0 0;\n",
              "      width: 32px;\n",
              "    }\n",
              "\n",
              "    .colab-df-convert:hover {\n",
              "      background-color: #E2EBFA;\n",
              "      box-shadow: 0px 1px 2px rgba(60, 64, 67, 0.3), 0px 1px 3px 1px rgba(60, 64, 67, 0.15);\n",
              "      fill: #174EA6;\n",
              "    }\n",
              "\n",
              "    [theme=dark] .colab-df-convert {\n",
              "      background-color: #3B4455;\n",
              "      fill: #D2E3FC;\n",
              "    }\n",
              "\n",
              "    [theme=dark] .colab-df-convert:hover {\n",
              "      background-color: #434B5C;\n",
              "      box-shadow: 0px 1px 3px 1px rgba(0, 0, 0, 0.15);\n",
              "      filter: drop-shadow(0px 1px 2px rgba(0, 0, 0, 0.3));\n",
              "      fill: #FFFFFF;\n",
              "    }\n",
              "  </style>\n",
              "\n",
              "      <script>\n",
              "        const buttonEl =\n",
              "          document.querySelector('#df-f431d628-afa7-4989-bcb8-97eafb99d1dc button.colab-df-convert');\n",
              "        buttonEl.style.display =\n",
              "          google.colab.kernel.accessAllowed ? 'block' : 'none';\n",
              "\n",
              "        async function convertToInteractive(key) {\n",
              "          const element = document.querySelector('#df-f431d628-afa7-4989-bcb8-97eafb99d1dc');\n",
              "          const dataTable =\n",
              "            await google.colab.kernel.invokeFunction('convertToInteractive',\n",
              "                                                     [key], {});\n",
              "          if (!dataTable) return;\n",
              "\n",
              "          const docLinkHtml = 'Like what you see? Visit the ' +\n",
              "            '<a target=\"_blank\" href=https://colab.research.google.com/notebooks/data_table.ipynb>data table notebook</a>'\n",
              "            + ' to learn more about interactive tables.';\n",
              "          element.innerHTML = '';\n",
              "          dataTable['output_type'] = 'display_data';\n",
              "          await google.colab.output.renderOutput(dataTable, element);\n",
              "          const docLink = document.createElement('div');\n",
              "          docLink.innerHTML = docLinkHtml;\n",
              "          element.appendChild(docLink);\n",
              "        }\n",
              "      </script>\n",
              "    </div>\n",
              "  </div>\n",
              "  "
            ]
          },
          "metadata": {},
          "execution_count": 2
        }
      ],
      "source": [
        "df=pd.read_csv(\"cancer.csv\")\n",
        "df"
      ]
    },
    {
      "cell_type": "code",
      "execution_count": null,
      "id": "747494c7",
      "metadata": {
        "colab": {
          "base_uri": "https://localhost:8080/",
          "height": 629
        },
        "id": "747494c7",
        "outputId": "4de66622-2148-4877-db5d-08dfeaa615e4"
      },
      "outputs": [
        {
          "output_type": "display_data",
          "data": {
            "text/plain": [
              "id                         84348301\n",
              "diagnosis                         M\n",
              "radius_mean                   11.42\n",
              "texture_mean                  20.38\n",
              "perimeter_mean                77.58\n",
              "area_mean                     386.1\n",
              "smoothness_mean              0.1425\n",
              "compactness_mean             0.2839\n",
              "concavity_mean               0.2414\n",
              "concave points_mean          0.1052\n",
              "symmetry_mean                0.2597\n",
              "fractal_dimension_mean      0.09744\n",
              "radius_se                    0.4956\n",
              "texture_se                    1.156\n",
              "perimeter_se                  3.445\n",
              "area_se                       27.23\n",
              "smoothness_se               0.00911\n",
              "compactness_se              0.07458\n",
              "concavity_se                0.05661\n",
              "concave points_se           0.01867\n",
              "symmetry_se                 0.05963\n",
              "fractal_dimension_se       0.009208\n",
              "radius_worst                  14.91\n",
              "texture_worst                  26.5\n",
              "perimeter_worst               98.87\n",
              "area_worst                    567.7\n",
              "smoothness_worst             0.2098\n",
              "compactness_worst            0.8663\n",
              "concavity_worst              0.6869\n",
              "concave points_worst         0.2575\n",
              "symmetry_worst               0.6638\n",
              "fractal_dimension_worst       0.173\n",
              "Unnamed: 32                     NaN\n",
              "Name: 3, dtype: object"
            ]
          },
          "metadata": {}
        }
      ],
      "source": [
        "display(df.iloc[3])"
      ]
    },
    {
      "cell_type": "code",
      "execution_count": null,
      "id": "39f321a2",
      "metadata": {
        "colab": {
          "base_uri": "https://localhost:8080/"
        },
        "id": "39f321a2",
        "outputId": "91f48664-140e-4853-cac2-86893bd0211e"
      },
      "outputs": [
        {
          "output_type": "execute_result",
          "data": {
            "text/plain": [
              "id                           0\n",
              "diagnosis                    0\n",
              "radius_mean                  0\n",
              "texture_mean                 0\n",
              "perimeter_mean               0\n",
              "area_mean                    0\n",
              "smoothness_mean              0\n",
              "compactness_mean             0\n",
              "concavity_mean               0\n",
              "concave points_mean          0\n",
              "symmetry_mean                0\n",
              "fractal_dimension_mean       0\n",
              "radius_se                    0\n",
              "texture_se                   0\n",
              "perimeter_se                 0\n",
              "area_se                      0\n",
              "smoothness_se                0\n",
              "compactness_se               0\n",
              "concavity_se                 0\n",
              "concave points_se            0\n",
              "symmetry_se                  0\n",
              "fractal_dimension_se         0\n",
              "radius_worst                 0\n",
              "texture_worst                0\n",
              "perimeter_worst              0\n",
              "area_worst                   0\n",
              "smoothness_worst             0\n",
              "compactness_worst            0\n",
              "concavity_worst              0\n",
              "concave points_worst         0\n",
              "symmetry_worst               0\n",
              "fractal_dimension_worst      0\n",
              "Unnamed: 32                569\n",
              "dtype: int64"
            ]
          },
          "metadata": {},
          "execution_count": 4
        }
      ],
      "source": [
        "df.isnull().sum()"
      ]
    },
    {
      "cell_type": "code",
      "execution_count": null,
      "id": "96ee8d15",
      "metadata": {
        "colab": {
          "base_uri": "https://localhost:8080/"
        },
        "id": "96ee8d15",
        "outputId": "1b368eea-3a8d-41b6-c1b5-60397945c578"
      },
      "outputs": [
        {
          "output_type": "execute_result",
          "data": {
            "text/plain": [
              "Index(['id', 'diagnosis', 'radius_mean', 'texture_mean', 'perimeter_mean',\n",
              "       'area_mean', 'smoothness_mean', 'compactness_mean', 'concavity_mean',\n",
              "       'concave points_mean', 'symmetry_mean', 'fractal_dimension_mean',\n",
              "       'radius_se', 'texture_se', 'perimeter_se', 'area_se', 'smoothness_se',\n",
              "       'compactness_se', 'concavity_se', 'concave points_se', 'symmetry_se',\n",
              "       'fractal_dimension_se', 'radius_worst', 'texture_worst',\n",
              "       'perimeter_worst', 'area_worst', 'smoothness_worst',\n",
              "       'compactness_worst', 'concavity_worst', 'concave points_worst',\n",
              "       'symmetry_worst', 'fractal_dimension_worst', 'Unnamed: 32'],\n",
              "      dtype='object')"
            ]
          },
          "metadata": {},
          "execution_count": 6
        }
      ],
      "source": [
        "df.columns"
      ]
    },
    {
      "cell_type": "code",
      "execution_count": null,
      "id": "24502e26",
      "metadata": {
        "id": "24502e26"
      },
      "outputs": [],
      "source": [
        "df.drop(columns=['radius_se', 'texture_se', 'perimeter_se', 'area_se', 'smoothness_se',\n",
        "       'compactness_se', 'concavity_se', 'concave points_se', 'symmetry_se',\n",
        "       'fractal_dimension_se', 'radius_worst', 'texture_worst',\n",
        "       'perimeter_worst', 'area_worst', 'smoothness_worst',\n",
        "       'compactness_worst', 'concavity_worst', 'concave points_worst',\n",
        "       'symmetry_worst', 'fractal_dimension_worst', 'Unnamed: 32'], inplace=True)\n"
      ]
    },
    {
      "cell_type": "code",
      "execution_count": null,
      "id": "c83cd4b4",
      "metadata": {
        "colab": {
          "base_uri": "https://localhost:8080/",
          "height": 505
        },
        "id": "c83cd4b4",
        "outputId": "9e926707-6e1d-4516-a721-f46c200e4701"
      },
      "outputs": [
        {
          "output_type": "execute_result",
          "data": {
            "text/plain": [
              "    diagnosis  radius_mean  texture_mean  perimeter_mean  area_mean  \\\n",
              "0           M        17.99         10.38          122.80     1001.0   \n",
              "1           M        20.57         17.77          132.90     1326.0   \n",
              "2           M        19.69         21.25          130.00     1203.0   \n",
              "3           M        11.42         20.38           77.58      386.1   \n",
              "4           M        20.29         14.34          135.10     1297.0   \n",
              "..        ...          ...           ...             ...        ...   \n",
              "564         M        21.56         22.39          142.00     1479.0   \n",
              "565         M        20.13         28.25          131.20     1261.0   \n",
              "566         M        16.60         28.08          108.30      858.1   \n",
              "567         M        20.60         29.33          140.10     1265.0   \n",
              "568         B         7.76         24.54           47.92      181.0   \n",
              "\n",
              "     smoothness_mean  compactness_mean  concavity_mean  concave points_mean  \\\n",
              "0            0.11840           0.27760         0.30010              0.14710   \n",
              "1            0.08474           0.07864         0.08690              0.07017   \n",
              "2            0.10960           0.15990         0.19740              0.12790   \n",
              "3            0.14250           0.28390         0.24140              0.10520   \n",
              "4            0.10030           0.13280         0.19800              0.10430   \n",
              "..               ...               ...             ...                  ...   \n",
              "564          0.11100           0.11590         0.24390              0.13890   \n",
              "565          0.09780           0.10340         0.14400              0.09791   \n",
              "566          0.08455           0.10230         0.09251              0.05302   \n",
              "567          0.11780           0.27700         0.35140              0.15200   \n",
              "568          0.05263           0.04362         0.00000              0.00000   \n",
              "\n",
              "     symmetry_mean  fractal_dimension_mean  \n",
              "0           0.2419                 0.07871  \n",
              "1           0.1812                 0.05667  \n",
              "2           0.2069                 0.05999  \n",
              "3           0.2597                 0.09744  \n",
              "4           0.1809                 0.05883  \n",
              "..             ...                     ...  \n",
              "564         0.1726                 0.05623  \n",
              "565         0.1752                 0.05533  \n",
              "566         0.1590                 0.05648  \n",
              "567         0.2397                 0.07016  \n",
              "568         0.1587                 0.05884  \n",
              "\n",
              "[569 rows x 11 columns]"
            ],
            "text/html": [
              "\n",
              "  <div id=\"df-217a645d-9851-4851-bec1-493ee1719656\">\n",
              "    <div class=\"colab-df-container\">\n",
              "      <div>\n",
              "<style scoped>\n",
              "    .dataframe tbody tr th:only-of-type {\n",
              "        vertical-align: middle;\n",
              "    }\n",
              "\n",
              "    .dataframe tbody tr th {\n",
              "        vertical-align: top;\n",
              "    }\n",
              "\n",
              "    .dataframe thead th {\n",
              "        text-align: right;\n",
              "    }\n",
              "</style>\n",
              "<table border=\"1\" class=\"dataframe\">\n",
              "  <thead>\n",
              "    <tr style=\"text-align: right;\">\n",
              "      <th></th>\n",
              "      <th>diagnosis</th>\n",
              "      <th>radius_mean</th>\n",
              "      <th>texture_mean</th>\n",
              "      <th>perimeter_mean</th>\n",
              "      <th>area_mean</th>\n",
              "      <th>smoothness_mean</th>\n",
              "      <th>compactness_mean</th>\n",
              "      <th>concavity_mean</th>\n",
              "      <th>concave points_mean</th>\n",
              "      <th>symmetry_mean</th>\n",
              "      <th>fractal_dimension_mean</th>\n",
              "    </tr>\n",
              "  </thead>\n",
              "  <tbody>\n",
              "    <tr>\n",
              "      <th>0</th>\n",
              "      <td>M</td>\n",
              "      <td>17.99</td>\n",
              "      <td>10.38</td>\n",
              "      <td>122.80</td>\n",
              "      <td>1001.0</td>\n",
              "      <td>0.11840</td>\n",
              "      <td>0.27760</td>\n",
              "      <td>0.30010</td>\n",
              "      <td>0.14710</td>\n",
              "      <td>0.2419</td>\n",
              "      <td>0.07871</td>\n",
              "    </tr>\n",
              "    <tr>\n",
              "      <th>1</th>\n",
              "      <td>M</td>\n",
              "      <td>20.57</td>\n",
              "      <td>17.77</td>\n",
              "      <td>132.90</td>\n",
              "      <td>1326.0</td>\n",
              "      <td>0.08474</td>\n",
              "      <td>0.07864</td>\n",
              "      <td>0.08690</td>\n",
              "      <td>0.07017</td>\n",
              "      <td>0.1812</td>\n",
              "      <td>0.05667</td>\n",
              "    </tr>\n",
              "    <tr>\n",
              "      <th>2</th>\n",
              "      <td>M</td>\n",
              "      <td>19.69</td>\n",
              "      <td>21.25</td>\n",
              "      <td>130.00</td>\n",
              "      <td>1203.0</td>\n",
              "      <td>0.10960</td>\n",
              "      <td>0.15990</td>\n",
              "      <td>0.19740</td>\n",
              "      <td>0.12790</td>\n",
              "      <td>0.2069</td>\n",
              "      <td>0.05999</td>\n",
              "    </tr>\n",
              "    <tr>\n",
              "      <th>3</th>\n",
              "      <td>M</td>\n",
              "      <td>11.42</td>\n",
              "      <td>20.38</td>\n",
              "      <td>77.58</td>\n",
              "      <td>386.1</td>\n",
              "      <td>0.14250</td>\n",
              "      <td>0.28390</td>\n",
              "      <td>0.24140</td>\n",
              "      <td>0.10520</td>\n",
              "      <td>0.2597</td>\n",
              "      <td>0.09744</td>\n",
              "    </tr>\n",
              "    <tr>\n",
              "      <th>4</th>\n",
              "      <td>M</td>\n",
              "      <td>20.29</td>\n",
              "      <td>14.34</td>\n",
              "      <td>135.10</td>\n",
              "      <td>1297.0</td>\n",
              "      <td>0.10030</td>\n",
              "      <td>0.13280</td>\n",
              "      <td>0.19800</td>\n",
              "      <td>0.10430</td>\n",
              "      <td>0.1809</td>\n",
              "      <td>0.05883</td>\n",
              "    </tr>\n",
              "    <tr>\n",
              "      <th>...</th>\n",
              "      <td>...</td>\n",
              "      <td>...</td>\n",
              "      <td>...</td>\n",
              "      <td>...</td>\n",
              "      <td>...</td>\n",
              "      <td>...</td>\n",
              "      <td>...</td>\n",
              "      <td>...</td>\n",
              "      <td>...</td>\n",
              "      <td>...</td>\n",
              "      <td>...</td>\n",
              "    </tr>\n",
              "    <tr>\n",
              "      <th>564</th>\n",
              "      <td>M</td>\n",
              "      <td>21.56</td>\n",
              "      <td>22.39</td>\n",
              "      <td>142.00</td>\n",
              "      <td>1479.0</td>\n",
              "      <td>0.11100</td>\n",
              "      <td>0.11590</td>\n",
              "      <td>0.24390</td>\n",
              "      <td>0.13890</td>\n",
              "      <td>0.1726</td>\n",
              "      <td>0.05623</td>\n",
              "    </tr>\n",
              "    <tr>\n",
              "      <th>565</th>\n",
              "      <td>M</td>\n",
              "      <td>20.13</td>\n",
              "      <td>28.25</td>\n",
              "      <td>131.20</td>\n",
              "      <td>1261.0</td>\n",
              "      <td>0.09780</td>\n",
              "      <td>0.10340</td>\n",
              "      <td>0.14400</td>\n",
              "      <td>0.09791</td>\n",
              "      <td>0.1752</td>\n",
              "      <td>0.05533</td>\n",
              "    </tr>\n",
              "    <tr>\n",
              "      <th>566</th>\n",
              "      <td>M</td>\n",
              "      <td>16.60</td>\n",
              "      <td>28.08</td>\n",
              "      <td>108.30</td>\n",
              "      <td>858.1</td>\n",
              "      <td>0.08455</td>\n",
              "      <td>0.10230</td>\n",
              "      <td>0.09251</td>\n",
              "      <td>0.05302</td>\n",
              "      <td>0.1590</td>\n",
              "      <td>0.05648</td>\n",
              "    </tr>\n",
              "    <tr>\n",
              "      <th>567</th>\n",
              "      <td>M</td>\n",
              "      <td>20.60</td>\n",
              "      <td>29.33</td>\n",
              "      <td>140.10</td>\n",
              "      <td>1265.0</td>\n",
              "      <td>0.11780</td>\n",
              "      <td>0.27700</td>\n",
              "      <td>0.35140</td>\n",
              "      <td>0.15200</td>\n",
              "      <td>0.2397</td>\n",
              "      <td>0.07016</td>\n",
              "    </tr>\n",
              "    <tr>\n",
              "      <th>568</th>\n",
              "      <td>B</td>\n",
              "      <td>7.76</td>\n",
              "      <td>24.54</td>\n",
              "      <td>47.92</td>\n",
              "      <td>181.0</td>\n",
              "      <td>0.05263</td>\n",
              "      <td>0.04362</td>\n",
              "      <td>0.00000</td>\n",
              "      <td>0.00000</td>\n",
              "      <td>0.1587</td>\n",
              "      <td>0.05884</td>\n",
              "    </tr>\n",
              "  </tbody>\n",
              "</table>\n",
              "<p>569 rows × 11 columns</p>\n",
              "</div>\n",
              "      <button class=\"colab-df-convert\" onclick=\"convertToInteractive('df-217a645d-9851-4851-bec1-493ee1719656')\"\n",
              "              title=\"Convert this dataframe to an interactive table.\"\n",
              "              style=\"display:none;\">\n",
              "        \n",
              "  <svg xmlns=\"http://www.w3.org/2000/svg\" height=\"24px\"viewBox=\"0 0 24 24\"\n",
              "       width=\"24px\">\n",
              "    <path d=\"M0 0h24v24H0V0z\" fill=\"none\"/>\n",
              "    <path d=\"M18.56 5.44l.94 2.06.94-2.06 2.06-.94-2.06-.94-.94-2.06-.94 2.06-2.06.94zm-11 1L8.5 8.5l.94-2.06 2.06-.94-2.06-.94L8.5 2.5l-.94 2.06-2.06.94zm10 10l.94 2.06.94-2.06 2.06-.94-2.06-.94-.94-2.06-.94 2.06-2.06.94z\"/><path d=\"M17.41 7.96l-1.37-1.37c-.4-.4-.92-.59-1.43-.59-.52 0-1.04.2-1.43.59L10.3 9.45l-7.72 7.72c-.78.78-.78 2.05 0 2.83L4 21.41c.39.39.9.59 1.41.59.51 0 1.02-.2 1.41-.59l7.78-7.78 2.81-2.81c.8-.78.8-2.07 0-2.86zM5.41 20L4 18.59l7.72-7.72 1.47 1.35L5.41 20z\"/>\n",
              "  </svg>\n",
              "      </button>\n",
              "      \n",
              "  <style>\n",
              "    .colab-df-container {\n",
              "      display:flex;\n",
              "      flex-wrap:wrap;\n",
              "      gap: 12px;\n",
              "    }\n",
              "\n",
              "    .colab-df-convert {\n",
              "      background-color: #E8F0FE;\n",
              "      border: none;\n",
              "      border-radius: 50%;\n",
              "      cursor: pointer;\n",
              "      display: none;\n",
              "      fill: #1967D2;\n",
              "      height: 32px;\n",
              "      padding: 0 0 0 0;\n",
              "      width: 32px;\n",
              "    }\n",
              "\n",
              "    .colab-df-convert:hover {\n",
              "      background-color: #E2EBFA;\n",
              "      box-shadow: 0px 1px 2px rgba(60, 64, 67, 0.3), 0px 1px 3px 1px rgba(60, 64, 67, 0.15);\n",
              "      fill: #174EA6;\n",
              "    }\n",
              "\n",
              "    [theme=dark] .colab-df-convert {\n",
              "      background-color: #3B4455;\n",
              "      fill: #D2E3FC;\n",
              "    }\n",
              "\n",
              "    [theme=dark] .colab-df-convert:hover {\n",
              "      background-color: #434B5C;\n",
              "      box-shadow: 0px 1px 3px 1px rgba(0, 0, 0, 0.15);\n",
              "      filter: drop-shadow(0px 1px 2px rgba(0, 0, 0, 0.3));\n",
              "      fill: #FFFFFF;\n",
              "    }\n",
              "  </style>\n",
              "\n",
              "      <script>\n",
              "        const buttonEl =\n",
              "          document.querySelector('#df-217a645d-9851-4851-bec1-493ee1719656 button.colab-df-convert');\n",
              "        buttonEl.style.display =\n",
              "          google.colab.kernel.accessAllowed ? 'block' : 'none';\n",
              "\n",
              "        async function convertToInteractive(key) {\n",
              "          const element = document.querySelector('#df-217a645d-9851-4851-bec1-493ee1719656');\n",
              "          const dataTable =\n",
              "            await google.colab.kernel.invokeFunction('convertToInteractive',\n",
              "                                                     [key], {});\n",
              "          if (!dataTable) return;\n",
              "\n",
              "          const docLinkHtml = 'Like what you see? Visit the ' +\n",
              "            '<a target=\"_blank\" href=https://colab.research.google.com/notebooks/data_table.ipynb>data table notebook</a>'\n",
              "            + ' to learn more about interactive tables.';\n",
              "          element.innerHTML = '';\n",
              "          dataTable['output_type'] = 'display_data';\n",
              "          await google.colab.output.renderOutput(dataTable, element);\n",
              "          const docLink = document.createElement('div');\n",
              "          docLink.innerHTML = docLinkHtml;\n",
              "          element.appendChild(docLink);\n",
              "        }\n",
              "      </script>\n",
              "    </div>\n",
              "  </div>\n",
              "  "
            ]
          },
          "metadata": {},
          "execution_count": 8
        }
      ],
      "source": [
        "del df['id']\n",
        "df"
      ]
    },
    {
      "cell_type": "code",
      "execution_count": null,
      "id": "f80895ac",
      "metadata": {
        "colab": {
          "base_uri": "https://localhost:8080/",
          "height": 362
        },
        "id": "f80895ac",
        "outputId": "2422a0e6-290c-4c99-ee9d-9646592d8f8f"
      },
      "outputs": [
        {
          "output_type": "execute_result",
          "data": {
            "text/plain": [
              "       radius_mean  texture_mean  perimeter_mean    area_mean  \\\n",
              "count   569.000000    569.000000      569.000000   569.000000   \n",
              "mean     14.127292     19.289649       91.969033   654.889104   \n",
              "std       3.524049      4.301036       24.298981   351.914129   \n",
              "min       6.981000      9.710000       43.790000   143.500000   \n",
              "25%      11.700000     16.170000       75.170000   420.300000   \n",
              "50%      13.370000     18.840000       86.240000   551.100000   \n",
              "75%      15.780000     21.800000      104.100000   782.700000   \n",
              "max      28.110000     39.280000      188.500000  2501.000000   \n",
              "\n",
              "       smoothness_mean  compactness_mean  concavity_mean  concave points_mean  \\\n",
              "count       569.000000        569.000000      569.000000           569.000000   \n",
              "mean          0.096360          0.104341        0.088799             0.048919   \n",
              "std           0.014064          0.052813        0.079720             0.038803   \n",
              "min           0.052630          0.019380        0.000000             0.000000   \n",
              "25%           0.086370          0.064920        0.029560             0.020310   \n",
              "50%           0.095870          0.092630        0.061540             0.033500   \n",
              "75%           0.105300          0.130400        0.130700             0.074000   \n",
              "max           0.163400          0.345400        0.426800             0.201200   \n",
              "\n",
              "       symmetry_mean  fractal_dimension_mean  \n",
              "count     569.000000              569.000000  \n",
              "mean        0.181162                0.062798  \n",
              "std         0.027414                0.007060  \n",
              "min         0.106000                0.049960  \n",
              "25%         0.161900                0.057700  \n",
              "50%         0.179200                0.061540  \n",
              "75%         0.195700                0.066120  \n",
              "max         0.304000                0.097440  "
            ],
            "text/html": [
              "\n",
              "  <div id=\"df-4a1a3a81-2fee-4789-89ba-b59c65f9965e\">\n",
              "    <div class=\"colab-df-container\">\n",
              "      <div>\n",
              "<style scoped>\n",
              "    .dataframe tbody tr th:only-of-type {\n",
              "        vertical-align: middle;\n",
              "    }\n",
              "\n",
              "    .dataframe tbody tr th {\n",
              "        vertical-align: top;\n",
              "    }\n",
              "\n",
              "    .dataframe thead th {\n",
              "        text-align: right;\n",
              "    }\n",
              "</style>\n",
              "<table border=\"1\" class=\"dataframe\">\n",
              "  <thead>\n",
              "    <tr style=\"text-align: right;\">\n",
              "      <th></th>\n",
              "      <th>radius_mean</th>\n",
              "      <th>texture_mean</th>\n",
              "      <th>perimeter_mean</th>\n",
              "      <th>area_mean</th>\n",
              "      <th>smoothness_mean</th>\n",
              "      <th>compactness_mean</th>\n",
              "      <th>concavity_mean</th>\n",
              "      <th>concave points_mean</th>\n",
              "      <th>symmetry_mean</th>\n",
              "      <th>fractal_dimension_mean</th>\n",
              "    </tr>\n",
              "  </thead>\n",
              "  <tbody>\n",
              "    <tr>\n",
              "      <th>count</th>\n",
              "      <td>569.000000</td>\n",
              "      <td>569.000000</td>\n",
              "      <td>569.000000</td>\n",
              "      <td>569.000000</td>\n",
              "      <td>569.000000</td>\n",
              "      <td>569.000000</td>\n",
              "      <td>569.000000</td>\n",
              "      <td>569.000000</td>\n",
              "      <td>569.000000</td>\n",
              "      <td>569.000000</td>\n",
              "    </tr>\n",
              "    <tr>\n",
              "      <th>mean</th>\n",
              "      <td>14.127292</td>\n",
              "      <td>19.289649</td>\n",
              "      <td>91.969033</td>\n",
              "      <td>654.889104</td>\n",
              "      <td>0.096360</td>\n",
              "      <td>0.104341</td>\n",
              "      <td>0.088799</td>\n",
              "      <td>0.048919</td>\n",
              "      <td>0.181162</td>\n",
              "      <td>0.062798</td>\n",
              "    </tr>\n",
              "    <tr>\n",
              "      <th>std</th>\n",
              "      <td>3.524049</td>\n",
              "      <td>4.301036</td>\n",
              "      <td>24.298981</td>\n",
              "      <td>351.914129</td>\n",
              "      <td>0.014064</td>\n",
              "      <td>0.052813</td>\n",
              "      <td>0.079720</td>\n",
              "      <td>0.038803</td>\n",
              "      <td>0.027414</td>\n",
              "      <td>0.007060</td>\n",
              "    </tr>\n",
              "    <tr>\n",
              "      <th>min</th>\n",
              "      <td>6.981000</td>\n",
              "      <td>9.710000</td>\n",
              "      <td>43.790000</td>\n",
              "      <td>143.500000</td>\n",
              "      <td>0.052630</td>\n",
              "      <td>0.019380</td>\n",
              "      <td>0.000000</td>\n",
              "      <td>0.000000</td>\n",
              "      <td>0.106000</td>\n",
              "      <td>0.049960</td>\n",
              "    </tr>\n",
              "    <tr>\n",
              "      <th>25%</th>\n",
              "      <td>11.700000</td>\n",
              "      <td>16.170000</td>\n",
              "      <td>75.170000</td>\n",
              "      <td>420.300000</td>\n",
              "      <td>0.086370</td>\n",
              "      <td>0.064920</td>\n",
              "      <td>0.029560</td>\n",
              "      <td>0.020310</td>\n",
              "      <td>0.161900</td>\n",
              "      <td>0.057700</td>\n",
              "    </tr>\n",
              "    <tr>\n",
              "      <th>50%</th>\n",
              "      <td>13.370000</td>\n",
              "      <td>18.840000</td>\n",
              "      <td>86.240000</td>\n",
              "      <td>551.100000</td>\n",
              "      <td>0.095870</td>\n",
              "      <td>0.092630</td>\n",
              "      <td>0.061540</td>\n",
              "      <td>0.033500</td>\n",
              "      <td>0.179200</td>\n",
              "      <td>0.061540</td>\n",
              "    </tr>\n",
              "    <tr>\n",
              "      <th>75%</th>\n",
              "      <td>15.780000</td>\n",
              "      <td>21.800000</td>\n",
              "      <td>104.100000</td>\n",
              "      <td>782.700000</td>\n",
              "      <td>0.105300</td>\n",
              "      <td>0.130400</td>\n",
              "      <td>0.130700</td>\n",
              "      <td>0.074000</td>\n",
              "      <td>0.195700</td>\n",
              "      <td>0.066120</td>\n",
              "    </tr>\n",
              "    <tr>\n",
              "      <th>max</th>\n",
              "      <td>28.110000</td>\n",
              "      <td>39.280000</td>\n",
              "      <td>188.500000</td>\n",
              "      <td>2501.000000</td>\n",
              "      <td>0.163400</td>\n",
              "      <td>0.345400</td>\n",
              "      <td>0.426800</td>\n",
              "      <td>0.201200</td>\n",
              "      <td>0.304000</td>\n",
              "      <td>0.097440</td>\n",
              "    </tr>\n",
              "  </tbody>\n",
              "</table>\n",
              "</div>\n",
              "      <button class=\"colab-df-convert\" onclick=\"convertToInteractive('df-4a1a3a81-2fee-4789-89ba-b59c65f9965e')\"\n",
              "              title=\"Convert this dataframe to an interactive table.\"\n",
              "              style=\"display:none;\">\n",
              "        \n",
              "  <svg xmlns=\"http://www.w3.org/2000/svg\" height=\"24px\"viewBox=\"0 0 24 24\"\n",
              "       width=\"24px\">\n",
              "    <path d=\"M0 0h24v24H0V0z\" fill=\"none\"/>\n",
              "    <path d=\"M18.56 5.44l.94 2.06.94-2.06 2.06-.94-2.06-.94-.94-2.06-.94 2.06-2.06.94zm-11 1L8.5 8.5l.94-2.06 2.06-.94-2.06-.94L8.5 2.5l-.94 2.06-2.06.94zm10 10l.94 2.06.94-2.06 2.06-.94-2.06-.94-.94-2.06-.94 2.06-2.06.94z\"/><path d=\"M17.41 7.96l-1.37-1.37c-.4-.4-.92-.59-1.43-.59-.52 0-1.04.2-1.43.59L10.3 9.45l-7.72 7.72c-.78.78-.78 2.05 0 2.83L4 21.41c.39.39.9.59 1.41.59.51 0 1.02-.2 1.41-.59l7.78-7.78 2.81-2.81c.8-.78.8-2.07 0-2.86zM5.41 20L4 18.59l7.72-7.72 1.47 1.35L5.41 20z\"/>\n",
              "  </svg>\n",
              "      </button>\n",
              "      \n",
              "  <style>\n",
              "    .colab-df-container {\n",
              "      display:flex;\n",
              "      flex-wrap:wrap;\n",
              "      gap: 12px;\n",
              "    }\n",
              "\n",
              "    .colab-df-convert {\n",
              "      background-color: #E8F0FE;\n",
              "      border: none;\n",
              "      border-radius: 50%;\n",
              "      cursor: pointer;\n",
              "      display: none;\n",
              "      fill: #1967D2;\n",
              "      height: 32px;\n",
              "      padding: 0 0 0 0;\n",
              "      width: 32px;\n",
              "    }\n",
              "\n",
              "    .colab-df-convert:hover {\n",
              "      background-color: #E2EBFA;\n",
              "      box-shadow: 0px 1px 2px rgba(60, 64, 67, 0.3), 0px 1px 3px 1px rgba(60, 64, 67, 0.15);\n",
              "      fill: #174EA6;\n",
              "    }\n",
              "\n",
              "    [theme=dark] .colab-df-convert {\n",
              "      background-color: #3B4455;\n",
              "      fill: #D2E3FC;\n",
              "    }\n",
              "\n",
              "    [theme=dark] .colab-df-convert:hover {\n",
              "      background-color: #434B5C;\n",
              "      box-shadow: 0px 1px 3px 1px rgba(0, 0, 0, 0.15);\n",
              "      filter: drop-shadow(0px 1px 2px rgba(0, 0, 0, 0.3));\n",
              "      fill: #FFFFFF;\n",
              "    }\n",
              "  </style>\n",
              "\n",
              "      <script>\n",
              "        const buttonEl =\n",
              "          document.querySelector('#df-4a1a3a81-2fee-4789-89ba-b59c65f9965e button.colab-df-convert');\n",
              "        buttonEl.style.display =\n",
              "          google.colab.kernel.accessAllowed ? 'block' : 'none';\n",
              "\n",
              "        async function convertToInteractive(key) {\n",
              "          const element = document.querySelector('#df-4a1a3a81-2fee-4789-89ba-b59c65f9965e');\n",
              "          const dataTable =\n",
              "            await google.colab.kernel.invokeFunction('convertToInteractive',\n",
              "                                                     [key], {});\n",
              "          if (!dataTable) return;\n",
              "\n",
              "          const docLinkHtml = 'Like what you see? Visit the ' +\n",
              "            '<a target=\"_blank\" href=https://colab.research.google.com/notebooks/data_table.ipynb>data table notebook</a>'\n",
              "            + ' to learn more about interactive tables.';\n",
              "          element.innerHTML = '';\n",
              "          dataTable['output_type'] = 'display_data';\n",
              "          await google.colab.output.renderOutput(dataTable, element);\n",
              "          const docLink = document.createElement('div');\n",
              "          docLink.innerHTML = docLinkHtml;\n",
              "          element.appendChild(docLink);\n",
              "        }\n",
              "      </script>\n",
              "    </div>\n",
              "  </div>\n",
              "  "
            ]
          },
          "metadata": {},
          "execution_count": 9
        }
      ],
      "source": [
        "df.describe()"
      ]
    },
    {
      "cell_type": "code",
      "execution_count": null,
      "id": "a141bbe6",
      "metadata": {
        "colab": {
          "base_uri": "https://localhost:8080/"
        },
        "id": "a141bbe6",
        "outputId": "21973ba7-b6f0-4709-da5b-057a57961be8"
      },
      "outputs": [
        {
          "output_type": "stream",
          "name": "stderr",
          "text": [
            "/usr/local/lib/python3.7/dist-packages/ipykernel_launcher.py:4: FutureWarning: Automatic reindexing on DataFrame vs Series comparisons is deprecated and will raise ValueError in a future version.  Do `left, right = left.align(right, axis=1, copy=False)` before e.g. `left == right`\n",
            "  after removing the cwd from sys.path.\n"
          ]
        },
        {
          "output_type": "execute_result",
          "data": {
            "text/plain": [
              "area_mean                 25\n",
              "compactness_mean          16\n",
              "concave points_mean       10\n",
              "concavity_mean            18\n",
              "diagnosis                  0\n",
              "fractal_dimension_mean    15\n",
              "perimeter_mean            13\n",
              "radius_mean               14\n",
              "smoothness_mean            6\n",
              "symmetry_mean             15\n",
              "texture_mean               7\n",
              "dtype: int64"
            ]
          },
          "metadata": {},
          "execution_count": 10
        }
      ],
      "source": [
        "Q1 = df.quantile(0.25)\n",
        "Q3 = df.quantile(0.75)\n",
        "IQR = Q3 - Q1\n",
        "((df < (Q1 - 1.5 * IQR)) | (df > (Q3 + 1.5 * IQR))).sum() # gives no. of outliers"
      ]
    },
    {
      "cell_type": "code",
      "execution_count": null,
      "id": "18b000a6",
      "metadata": {
        "id": "18b000a6"
      },
      "outputs": [],
      "source": [
        "df = df.drop_duplicates()"
      ]
    },
    {
      "cell_type": "code",
      "execution_count": null,
      "id": "1483f164",
      "metadata": {
        "id": "1483f164"
      },
      "outputs": [],
      "source": [
        "#Assigning features and target\n",
        "x = df.loc[:,df.columns[1:]]\n",
        "y = df['diagnosis']\n",
        "y = y.map({'M':1, 'B':0})"
      ]
    },
    {
      "cell_type": "markdown",
      "id": "02b9b595",
      "metadata": {
        "id": "02b9b595"
      },
      "source": [
        "# Model SVC"
      ]
    },
    {
      "cell_type": "code",
      "execution_count": null,
      "id": "24a8c17c",
      "metadata": {
        "id": "24a8c17c",
        "outputId": "1c2b6a72-d85b-4d74-b09c-bdd06bf958fd"
      },
      "outputs": [
        {
          "name": "stdout",
          "output_type": "stream",
          "text": [
            "Requirement already satisfied: sklearn in c:\\users\\sundaram\\appdata\\local\\programs\\python\\python311\\lib\\site-packages (0.0.post1)"
          ]
        },
        {
          "name": "stderr",
          "output_type": "stream",
          "text": [
            "\n",
            "[notice] A new release of pip available: 22.3 -> 22.3.1\n",
            "[notice] To update, run: python.exe -m pip install --upgrade pip\n"
          ]
        },
        {
          "name": "stdout",
          "output_type": "stream",
          "text": [
            "\n"
          ]
        }
      ],
      "source": [
        "!pip install sklearn"
      ]
    },
    {
      "cell_type": "code",
      "execution_count": null,
      "id": "e1ac9ce2",
      "metadata": {
        "id": "e1ac9ce2",
        "outputId": "9ee1c90f-d91c-44eb-aef5-053d1fa029cc"
      },
      "outputs": [
        {
          "name": "stdout",
          "output_type": "stream",
          "text": [
            "Collecting scikit-learn\n",
            "  Downloading scikit_learn-1.1.3-cp311-cp311-win_amd64.whl (7.5 MB)\n",
            "     ---------------------------------------- 7.5/7.5 MB 3.1 MB/s eta 0:00:00\n",
            "Requirement already satisfied: numpy>=1.17.3 in c:\\users\\sundaram\\appdata\\local\\programs\\python\\python311\\lib\\site-packages (from scikit-learn) (1.23.4)\n",
            "Collecting scipy>=1.3.2\n",
            "  Downloading scipy-1.9.3-cp311-cp311-win_amd64.whl (39.9 MB)\n",
            "     ---------------------------------------- 39.9/39.9 MB 2.3 MB/s eta 0:00:00\n",
            "Collecting joblib>=1.0.0\n",
            "  Downloading joblib-1.2.0-py3-none-any.whl (297 kB)\n",
            "     -------------------------------------- 298.0/298.0 kB 1.8 MB/s eta 0:00:00\n",
            "Collecting threadpoolctl>=2.0.0\n",
            "  Downloading threadpoolctl-3.1.0-py3-none-any.whl (14 kB)\n",
            "Installing collected packages: threadpoolctl, scipy, joblib, scikit-learn\n",
            "Successfully installed joblib-1.2.0 scikit-learn-1.1.3 scipy-1.9.3 threadpoolctl-3.1.0\n",
            "Note: you may need to restart the kernel to use updated packages.\n"
          ]
        },
        {
          "name": "stderr",
          "output_type": "stream",
          "text": [
            "\n",
            "[notice] A new release of pip available: 22.3 -> 22.3.1\n",
            "[notice] To update, run: python.exe -m pip install --upgrade pip\n"
          ]
        }
      ],
      "source": [
        "%pip install scikit-learn"
      ]
    },
    {
      "cell_type": "code",
      "execution_count": null,
      "id": "26d4bb3c",
      "metadata": {
        "id": "26d4bb3c"
      },
      "outputs": [],
      "source": [
        "from sklearn.model_selection import train_test_split\n",
        "x_train, x_test, y_train, y_test = train_test_split(x,y, test_size=0.30, random_state=4)"
      ]
    },
    {
      "cell_type": "code",
      "execution_count": null,
      "id": "fac73522",
      "metadata": {
        "colab": {
          "base_uri": "https://localhost:8080/"
        },
        "id": "fac73522",
        "outputId": "6311434f-080a-4ae8-cc46-7ba4187c30ec"
      },
      "outputs": [
        {
          "output_type": "stream",
          "name": "stdout",
          "text": [
            "x_train-shape :  (398, 10)\n",
            "y_train-shape :  (398,)\n",
            "x_test-shape :  (171, 10)\n",
            "y_test-shape :  (171,)\n"
          ]
        }
      ],
      "source": [
        "print(\"x_train-shape : \", x_train.shape)\n",
        "print(\"y_train-shape : \", y_train.shape)\n",
        "print(\"x_test-shape : \", x_test.shape)\n",
        "print(\"y_test-shape : \", y_test.shape)"
      ]
    },
    {
      "cell_type": "markdown",
      "id": "484a778f",
      "metadata": {
        "id": "484a778f"
      },
      "source": [
        "# let us cap the outlier only in the training df, as the incoming new data may or may not have outlier.\n"
      ]
    },
    {
      "cell_type": "code",
      "execution_count": null,
      "id": "8c75172f",
      "metadata": {
        "id": "8c75172f"
      },
      "outputs": [],
      "source": [
        "\n",
        "def capping(df,cols):\n",
        "    for col in cols:\n",
        "        Q1 = df[col].quantile(0.25)\n",
        "        Q3 = df[col].quantile(0.75)\n",
        "        IQR = Q3 - Q1\n",
        "        Up=Q3 + (1.5 * IQR)\n",
        "        Low=Q1 - (1.5 * IQR)\n",
        "        \n",
        "        df[col]=np.where(df[col]> Up,Up,np.where(df[col]<Low,Low,df[col]))\n",
        "    \n",
        "    \n"
      ]
    },
    {
      "cell_type": "code",
      "execution_count": null,
      "id": "ce2ca1c4",
      "metadata": {
        "colab": {
          "base_uri": "https://localhost:8080/"
        },
        "id": "ce2ca1c4",
        "outputId": "c95da136-ff6f-45be-aaf5-20582b99996b"
      },
      "outputs": [
        {
          "output_type": "execute_result",
          "data": {
            "text/plain": [
              "Index(['radius_mean', 'texture_mean', 'perimeter_mean', 'area_mean',\n",
              "       'smoothness_mean', 'compactness_mean', 'concavity_mean',\n",
              "       'concave points_mean', 'symmetry_mean', 'fractal_dimension_mean'],\n",
              "      dtype='object')"
            ]
          },
          "metadata": {},
          "execution_count": 16
        }
      ],
      "source": [
        "cols=x_train.columns\n",
        "cols"
      ]
    },
    {
      "cell_type": "code",
      "execution_count": null,
      "id": "ebc31a88",
      "metadata": {
        "id": "ebc31a88"
      },
      "outputs": [],
      "source": [
        "capping(x_train,cols)"
      ]
    },
    {
      "cell_type": "code",
      "execution_count": null,
      "id": "25cbd0c9",
      "metadata": {
        "colab": {
          "base_uri": "https://localhost:8080/",
          "height": 382
        },
        "id": "25cbd0c9",
        "outputId": "d16f2c9d-4c27-42af-f510-d372b5210ec8"
      },
      "outputs": [
        {
          "output_type": "execute_result",
          "data": {
            "text/plain": [
              "       radius_mean  texture_mean  perimeter_mean    area_mean  \\\n",
              "count   398.000000    398.000000      398.000000   398.000000   \n",
              "mean     14.155813     19.240977       92.129328   649.392274   \n",
              "std       3.391374      4.197542       23.387033   311.906064   \n",
              "min       6.981000      9.710000       43.790000   143.500000   \n",
              "25%      11.742500     16.152500       75.467500   424.375000   \n",
              "50%      13.415000     18.810000       86.890000   553.750000   \n",
              "75%      16.125000     21.660000      106.100000   799.700000   \n",
              "max      22.698750     29.921250      152.048750  1362.687500   \n",
              "\n",
              "       smoothness_mean  compactness_mean  concavity_mean  concave points_mean  \\\n",
              "count       398.000000        398.000000      398.000000           398.000000   \n",
              "mean          0.096307          0.102543        0.087127             0.049014   \n",
              "std           0.012888          0.049742        0.075478             0.038309   \n",
              "min           0.062510          0.019380        0.000000             0.000000   \n",
              "25%           0.086735          0.063128        0.028280             0.020103   \n",
              "50%           0.095930          0.091370        0.060070             0.033770   \n",
              "75%           0.104575          0.130575        0.132050             0.073940   \n",
              "max           0.131335          0.231746        0.287705             0.154696   \n",
              "\n",
              "       symmetry_mean  fractal_dimension_mean  \n",
              "count     398.000000              398.000000  \n",
              "mean        0.181081                0.062533  \n",
              "std         0.026098                0.006531  \n",
              "min         0.116700                0.049960  \n",
              "25%         0.161825                0.057717  \n",
              "50%         0.179600                0.061315  \n",
              "75%         0.196600                0.066128  \n",
              "max         0.248762                0.078743  "
            ],
            "text/html": [
              "\n",
              "  <div id=\"df-e69e4316-a051-4273-b23d-b11e741f9009\">\n",
              "    <div class=\"colab-df-container\">\n",
              "      <div>\n",
              "<style scoped>\n",
              "    .dataframe tbody tr th:only-of-type {\n",
              "        vertical-align: middle;\n",
              "    }\n",
              "\n",
              "    .dataframe tbody tr th {\n",
              "        vertical-align: top;\n",
              "    }\n",
              "\n",
              "    .dataframe thead th {\n",
              "        text-align: right;\n",
              "    }\n",
              "</style>\n",
              "<table border=\"1\" class=\"dataframe\">\n",
              "  <thead>\n",
              "    <tr style=\"text-align: right;\">\n",
              "      <th></th>\n",
              "      <th>radius_mean</th>\n",
              "      <th>texture_mean</th>\n",
              "      <th>perimeter_mean</th>\n",
              "      <th>area_mean</th>\n",
              "      <th>smoothness_mean</th>\n",
              "      <th>compactness_mean</th>\n",
              "      <th>concavity_mean</th>\n",
              "      <th>concave points_mean</th>\n",
              "      <th>symmetry_mean</th>\n",
              "      <th>fractal_dimension_mean</th>\n",
              "    </tr>\n",
              "  </thead>\n",
              "  <tbody>\n",
              "    <tr>\n",
              "      <th>count</th>\n",
              "      <td>398.000000</td>\n",
              "      <td>398.000000</td>\n",
              "      <td>398.000000</td>\n",
              "      <td>398.000000</td>\n",
              "      <td>398.000000</td>\n",
              "      <td>398.000000</td>\n",
              "      <td>398.000000</td>\n",
              "      <td>398.000000</td>\n",
              "      <td>398.000000</td>\n",
              "      <td>398.000000</td>\n",
              "    </tr>\n",
              "    <tr>\n",
              "      <th>mean</th>\n",
              "      <td>14.155813</td>\n",
              "      <td>19.240977</td>\n",
              "      <td>92.129328</td>\n",
              "      <td>649.392274</td>\n",
              "      <td>0.096307</td>\n",
              "      <td>0.102543</td>\n",
              "      <td>0.087127</td>\n",
              "      <td>0.049014</td>\n",
              "      <td>0.181081</td>\n",
              "      <td>0.062533</td>\n",
              "    </tr>\n",
              "    <tr>\n",
              "      <th>std</th>\n",
              "      <td>3.391374</td>\n",
              "      <td>4.197542</td>\n",
              "      <td>23.387033</td>\n",
              "      <td>311.906064</td>\n",
              "      <td>0.012888</td>\n",
              "      <td>0.049742</td>\n",
              "      <td>0.075478</td>\n",
              "      <td>0.038309</td>\n",
              "      <td>0.026098</td>\n",
              "      <td>0.006531</td>\n",
              "    </tr>\n",
              "    <tr>\n",
              "      <th>min</th>\n",
              "      <td>6.981000</td>\n",
              "      <td>9.710000</td>\n",
              "      <td>43.790000</td>\n",
              "      <td>143.500000</td>\n",
              "      <td>0.062510</td>\n",
              "      <td>0.019380</td>\n",
              "      <td>0.000000</td>\n",
              "      <td>0.000000</td>\n",
              "      <td>0.116700</td>\n",
              "      <td>0.049960</td>\n",
              "    </tr>\n",
              "    <tr>\n",
              "      <th>25%</th>\n",
              "      <td>11.742500</td>\n",
              "      <td>16.152500</td>\n",
              "      <td>75.467500</td>\n",
              "      <td>424.375000</td>\n",
              "      <td>0.086735</td>\n",
              "      <td>0.063128</td>\n",
              "      <td>0.028280</td>\n",
              "      <td>0.020103</td>\n",
              "      <td>0.161825</td>\n",
              "      <td>0.057717</td>\n",
              "    </tr>\n",
              "    <tr>\n",
              "      <th>50%</th>\n",
              "      <td>13.415000</td>\n",
              "      <td>18.810000</td>\n",
              "      <td>86.890000</td>\n",
              "      <td>553.750000</td>\n",
              "      <td>0.095930</td>\n",
              "      <td>0.091370</td>\n",
              "      <td>0.060070</td>\n",
              "      <td>0.033770</td>\n",
              "      <td>0.179600</td>\n",
              "      <td>0.061315</td>\n",
              "    </tr>\n",
              "    <tr>\n",
              "      <th>75%</th>\n",
              "      <td>16.125000</td>\n",
              "      <td>21.660000</td>\n",
              "      <td>106.100000</td>\n",
              "      <td>799.700000</td>\n",
              "      <td>0.104575</td>\n",
              "      <td>0.130575</td>\n",
              "      <td>0.132050</td>\n",
              "      <td>0.073940</td>\n",
              "      <td>0.196600</td>\n",
              "      <td>0.066128</td>\n",
              "    </tr>\n",
              "    <tr>\n",
              "      <th>max</th>\n",
              "      <td>22.698750</td>\n",
              "      <td>29.921250</td>\n",
              "      <td>152.048750</td>\n",
              "      <td>1362.687500</td>\n",
              "      <td>0.131335</td>\n",
              "      <td>0.231746</td>\n",
              "      <td>0.287705</td>\n",
              "      <td>0.154696</td>\n",
              "      <td>0.248762</td>\n",
              "      <td>0.078743</td>\n",
              "    </tr>\n",
              "  </tbody>\n",
              "</table>\n",
              "</div>\n",
              "      <button class=\"colab-df-convert\" onclick=\"convertToInteractive('df-e69e4316-a051-4273-b23d-b11e741f9009')\"\n",
              "              title=\"Convert this dataframe to an interactive table.\"\n",
              "              style=\"display:none;\">\n",
              "        \n",
              "  <svg xmlns=\"http://www.w3.org/2000/svg\" height=\"24px\"viewBox=\"0 0 24 24\"\n",
              "       width=\"24px\">\n",
              "    <path d=\"M0 0h24v24H0V0z\" fill=\"none\"/>\n",
              "    <path d=\"M18.56 5.44l.94 2.06.94-2.06 2.06-.94-2.06-.94-.94-2.06-.94 2.06-2.06.94zm-11 1L8.5 8.5l.94-2.06 2.06-.94-2.06-.94L8.5 2.5l-.94 2.06-2.06.94zm10 10l.94 2.06.94-2.06 2.06-.94-2.06-.94-.94-2.06-.94 2.06-2.06.94z\"/><path d=\"M17.41 7.96l-1.37-1.37c-.4-.4-.92-.59-1.43-.59-.52 0-1.04.2-1.43.59L10.3 9.45l-7.72 7.72c-.78.78-.78 2.05 0 2.83L4 21.41c.39.39.9.59 1.41.59.51 0 1.02-.2 1.41-.59l7.78-7.78 2.81-2.81c.8-.78.8-2.07 0-2.86zM5.41 20L4 18.59l7.72-7.72 1.47 1.35L5.41 20z\"/>\n",
              "  </svg>\n",
              "      </button>\n",
              "      \n",
              "  <style>\n",
              "    .colab-df-container {\n",
              "      display:flex;\n",
              "      flex-wrap:wrap;\n",
              "      gap: 12px;\n",
              "    }\n",
              "\n",
              "    .colab-df-convert {\n",
              "      background-color: #E8F0FE;\n",
              "      border: none;\n",
              "      border-radius: 50%;\n",
              "      cursor: pointer;\n",
              "      display: none;\n",
              "      fill: #1967D2;\n",
              "      height: 32px;\n",
              "      padding: 0 0 0 0;\n",
              "      width: 32px;\n",
              "    }\n",
              "\n",
              "    .colab-df-convert:hover {\n",
              "      background-color: #E2EBFA;\n",
              "      box-shadow: 0px 1px 2px rgba(60, 64, 67, 0.3), 0px 1px 3px 1px rgba(60, 64, 67, 0.15);\n",
              "      fill: #174EA6;\n",
              "    }\n",
              "\n",
              "    [theme=dark] .colab-df-convert {\n",
              "      background-color: #3B4455;\n",
              "      fill: #D2E3FC;\n",
              "    }\n",
              "\n",
              "    [theme=dark] .colab-df-convert:hover {\n",
              "      background-color: #434B5C;\n",
              "      box-shadow: 0px 1px 3px 1px rgba(0, 0, 0, 0.15);\n",
              "      filter: drop-shadow(0px 1px 2px rgba(0, 0, 0, 0.3));\n",
              "      fill: #FFFFFF;\n",
              "    }\n",
              "  </style>\n",
              "\n",
              "      <script>\n",
              "        const buttonEl =\n",
              "          document.querySelector('#df-e69e4316-a051-4273-b23d-b11e741f9009 button.colab-df-convert');\n",
              "        buttonEl.style.display =\n",
              "          google.colab.kernel.accessAllowed ? 'block' : 'none';\n",
              "\n",
              "        async function convertToInteractive(key) {\n",
              "          const element = document.querySelector('#df-e69e4316-a051-4273-b23d-b11e741f9009');\n",
              "          const dataTable =\n",
              "            await google.colab.kernel.invokeFunction('convertToInteractive',\n",
              "                                                     [key], {});\n",
              "          if (!dataTable) return;\n",
              "\n",
              "          const docLinkHtml = 'Like what you see? Visit the ' +\n",
              "            '<a target=\"_blank\" href=https://colab.research.google.com/notebooks/data_table.ipynb>data table notebook</a>'\n",
              "            + ' to learn more about interactive tables.';\n",
              "          element.innerHTML = '';\n",
              "          dataTable['output_type'] = 'display_data';\n",
              "          await google.colab.output.renderOutput(dataTable, element);\n",
              "          const docLink = document.createElement('div');\n",
              "          docLink.innerHTML = docLinkHtml;\n",
              "          element.appendChild(docLink);\n",
              "        }\n",
              "      </script>\n",
              "    </div>\n",
              "  </div>\n",
              "  "
            ]
          },
          "metadata": {},
          "execution_count": 18
        }
      ],
      "source": [
        "x_train.describe()"
      ]
    },
    {
      "cell_type": "code",
      "execution_count": null,
      "id": "0f1d8ad1",
      "metadata": {
        "colab": {
          "base_uri": "https://localhost:8080/"
        },
        "id": "0f1d8ad1",
        "outputId": "cb9a2749-9284-4f9b-a2e1-d49ddf46800a"
      },
      "outputs": [
        {
          "output_type": "execute_result",
          "data": {
            "text/plain": [
              "radius_mean               0\n",
              "texture_mean              0\n",
              "perimeter_mean            0\n",
              "area_mean                 0\n",
              "smoothness_mean           0\n",
              "compactness_mean          0\n",
              "concavity_mean            0\n",
              "concave points_mean       0\n",
              "symmetry_mean             0\n",
              "fractal_dimension_mean    0\n",
              "dtype: int64"
            ]
          },
          "metadata": {},
          "execution_count": 19
        }
      ],
      "source": [
        "Q1 = x_train.quantile(0.25)\n",
        "Q3 = x_train.quantile(0.75)\n",
        "IQR = Q3 - Q1\n",
        "((x_train < (Q1 - 1.5 * IQR)) | (x_train > (Q3 + 1.5 * IQR))).sum() "
      ]
    },
    {
      "cell_type": "markdown",
      "id": "46804d7b",
      "metadata": {
        "id": "46804d7b"
      },
      "source": [
        "# Feature Scaling"
      ]
    },
    {
      "cell_type": "code",
      "execution_count": null,
      "id": "6116cd5a",
      "metadata": {
        "id": "6116cd5a"
      },
      "outputs": [],
      "source": [
        "from sklearn.preprocessing import StandardScaler\n",
        "\n",
        "std = StandardScaler()\n",
        "\n",
        "x_train = std.fit_transform(x_train)\n",
        "x_test = std.transform(x_test)"
      ]
    },
    {
      "cell_type": "markdown",
      "id": "cab0e85d",
      "metadata": {
        "id": "cab0e85d"
      },
      "source": [
        "# Fitting SVM to the Training set"
      ]
    },
    {
      "cell_type": "code",
      "execution_count": null,
      "id": "a0fe488d",
      "metadata": {
        "colab": {
          "base_uri": "https://localhost:8080/"
        },
        "id": "a0fe488d",
        "outputId": "a62ab8c1-cb5e-4767-c44e-f14e068eecd7"
      },
      "outputs": [
        {
          "output_type": "execute_result",
          "data": {
            "text/plain": [
              "SVC(kernel='linear')"
            ]
          },
          "metadata": {},
          "execution_count": 21
        }
      ],
      "source": [
        "#from sklearn import svm\n",
        "from sklearn.svm import SVC\n",
        "\n",
        "SVM = SVC(kernel='linear', gamma='scale')\n",
        "SVM.fit(x_train, y_train) "
      ]
    },
    {
      "cell_type": "markdown",
      "id": "961a7364",
      "metadata": {
        "id": "961a7364"
      },
      "source": [
        "# Predicting the Test set results"
      ]
    },
    {
      "cell_type": "code",
      "execution_count": null,
      "id": "bacb3e33",
      "metadata": {
        "colab": {
          "base_uri": "https://localhost:8080/"
        },
        "id": "bacb3e33",
        "outputId": "e278d6a0-6a53-44dd-cb39-e229f7f3c3c8"
      },
      "outputs": [
        {
          "output_type": "execute_result",
          "data": {
            "text/plain": [
              "array([0, 0, 1, 1, 1, 1, 0, 0, 1, 0, 1, 0, 0, 0, 0, 0, 0, 0, 0, 0, 0, 0,\n",
              "       1, 0, 0, 1, 0, 0, 0, 0, 0, 0, 0, 0, 0, 1, 0, 1, 1, 1, 1, 0, 1, 0,\n",
              "       0, 0, 1, 1, 0, 1, 1, 0, 0, 1, 0, 0, 1, 0, 0, 1, 0, 0, 0, 0, 0, 0,\n",
              "       0, 0, 1, 1, 1, 0, 0, 1, 0, 1, 1, 1, 0, 0, 0, 1, 1, 0, 0, 0, 0, 0,\n",
              "       1, 0, 0, 1, 0, 1, 1, 1, 1, 0, 0, 0, 0, 1, 1, 0, 0, 0, 0, 0, 0, 1,\n",
              "       1, 0, 1, 0, 0, 1, 0, 1, 1, 1, 0, 1, 0, 0, 0, 0, 0, 1, 1, 0, 0, 0,\n",
              "       1, 1, 0, 1, 1, 1, 0, 1, 0, 1, 0, 1, 0, 1, 0, 1, 0, 1, 0, 0, 0, 0,\n",
              "       1, 0, 0, 0, 0, 0, 0, 1, 0, 0, 1, 0, 0, 0, 0, 0, 0])"
            ]
          },
          "metadata": {},
          "execution_count": 22
        }
      ],
      "source": [
        "y_pred = SVM.predict(x_test)\n",
        "y_pred"
      ]
    },
    {
      "cell_type": "code",
      "execution_count": null,
      "id": "6b6e2211",
      "metadata": {
        "colab": {
          "base_uri": "https://localhost:8080/",
          "height": 488
        },
        "id": "6b6e2211",
        "outputId": "edd0a1d3-c9e7-4093-8554-ef60ddb8752e"
      },
      "outputs": [
        {
          "output_type": "execute_result",
          "data": {
            "text/plain": [
              "     True_Target  Predicted_target\n",
              "340            0                 0\n",
              "382            0                 0\n",
              "300            1                 1\n",
              "262            1                 1\n",
              "363            0                 1\n",
              "..           ...               ...\n",
              "211            0                 0\n",
              "407            0                 0\n",
              "46             0                 0\n",
              "367            0                 0\n",
              "271            0                 0\n",
              "\n",
              "[171 rows x 2 columns]"
            ],
            "text/html": [
              "\n",
              "  <div id=\"df-bb874fb4-51a4-456e-9b46-c386f30fa491\">\n",
              "    <div class=\"colab-df-container\">\n",
              "      <div>\n",
              "<style scoped>\n",
              "    .dataframe tbody tr th:only-of-type {\n",
              "        vertical-align: middle;\n",
              "    }\n",
              "\n",
              "    .dataframe tbody tr th {\n",
              "        vertical-align: top;\n",
              "    }\n",
              "\n",
              "    .dataframe thead th {\n",
              "        text-align: right;\n",
              "    }\n",
              "</style>\n",
              "<table border=\"1\" class=\"dataframe\">\n",
              "  <thead>\n",
              "    <tr style=\"text-align: right;\">\n",
              "      <th></th>\n",
              "      <th>True_Target</th>\n",
              "      <th>Predicted_target</th>\n",
              "    </tr>\n",
              "  </thead>\n",
              "  <tbody>\n",
              "    <tr>\n",
              "      <th>340</th>\n",
              "      <td>0</td>\n",
              "      <td>0</td>\n",
              "    </tr>\n",
              "    <tr>\n",
              "      <th>382</th>\n",
              "      <td>0</td>\n",
              "      <td>0</td>\n",
              "    </tr>\n",
              "    <tr>\n",
              "      <th>300</th>\n",
              "      <td>1</td>\n",
              "      <td>1</td>\n",
              "    </tr>\n",
              "    <tr>\n",
              "      <th>262</th>\n",
              "      <td>1</td>\n",
              "      <td>1</td>\n",
              "    </tr>\n",
              "    <tr>\n",
              "      <th>363</th>\n",
              "      <td>0</td>\n",
              "      <td>1</td>\n",
              "    </tr>\n",
              "    <tr>\n",
              "      <th>...</th>\n",
              "      <td>...</td>\n",
              "      <td>...</td>\n",
              "    </tr>\n",
              "    <tr>\n",
              "      <th>211</th>\n",
              "      <td>0</td>\n",
              "      <td>0</td>\n",
              "    </tr>\n",
              "    <tr>\n",
              "      <th>407</th>\n",
              "      <td>0</td>\n",
              "      <td>0</td>\n",
              "    </tr>\n",
              "    <tr>\n",
              "      <th>46</th>\n",
              "      <td>0</td>\n",
              "      <td>0</td>\n",
              "    </tr>\n",
              "    <tr>\n",
              "      <th>367</th>\n",
              "      <td>0</td>\n",
              "      <td>0</td>\n",
              "    </tr>\n",
              "    <tr>\n",
              "      <th>271</th>\n",
              "      <td>0</td>\n",
              "      <td>0</td>\n",
              "    </tr>\n",
              "  </tbody>\n",
              "</table>\n",
              "<p>171 rows × 2 columns</p>\n",
              "</div>\n",
              "      <button class=\"colab-df-convert\" onclick=\"convertToInteractive('df-bb874fb4-51a4-456e-9b46-c386f30fa491')\"\n",
              "              title=\"Convert this dataframe to an interactive table.\"\n",
              "              style=\"display:none;\">\n",
              "        \n",
              "  <svg xmlns=\"http://www.w3.org/2000/svg\" height=\"24px\"viewBox=\"0 0 24 24\"\n",
              "       width=\"24px\">\n",
              "    <path d=\"M0 0h24v24H0V0z\" fill=\"none\"/>\n",
              "    <path d=\"M18.56 5.44l.94 2.06.94-2.06 2.06-.94-2.06-.94-.94-2.06-.94 2.06-2.06.94zm-11 1L8.5 8.5l.94-2.06 2.06-.94-2.06-.94L8.5 2.5l-.94 2.06-2.06.94zm10 10l.94 2.06.94-2.06 2.06-.94-2.06-.94-.94-2.06-.94 2.06-2.06.94z\"/><path d=\"M17.41 7.96l-1.37-1.37c-.4-.4-.92-.59-1.43-.59-.52 0-1.04.2-1.43.59L10.3 9.45l-7.72 7.72c-.78.78-.78 2.05 0 2.83L4 21.41c.39.39.9.59 1.41.59.51 0 1.02-.2 1.41-.59l7.78-7.78 2.81-2.81c.8-.78.8-2.07 0-2.86zM5.41 20L4 18.59l7.72-7.72 1.47 1.35L5.41 20z\"/>\n",
              "  </svg>\n",
              "      </button>\n",
              "      \n",
              "  <style>\n",
              "    .colab-df-container {\n",
              "      display:flex;\n",
              "      flex-wrap:wrap;\n",
              "      gap: 12px;\n",
              "    }\n",
              "\n",
              "    .colab-df-convert {\n",
              "      background-color: #E8F0FE;\n",
              "      border: none;\n",
              "      border-radius: 50%;\n",
              "      cursor: pointer;\n",
              "      display: none;\n",
              "      fill: #1967D2;\n",
              "      height: 32px;\n",
              "      padding: 0 0 0 0;\n",
              "      width: 32px;\n",
              "    }\n",
              "\n",
              "    .colab-df-convert:hover {\n",
              "      background-color: #E2EBFA;\n",
              "      box-shadow: 0px 1px 2px rgba(60, 64, 67, 0.3), 0px 1px 3px 1px rgba(60, 64, 67, 0.15);\n",
              "      fill: #174EA6;\n",
              "    }\n",
              "\n",
              "    [theme=dark] .colab-df-convert {\n",
              "      background-color: #3B4455;\n",
              "      fill: #D2E3FC;\n",
              "    }\n",
              "\n",
              "    [theme=dark] .colab-df-convert:hover {\n",
              "      background-color: #434B5C;\n",
              "      box-shadow: 0px 1px 3px 1px rgba(0, 0, 0, 0.15);\n",
              "      filter: drop-shadow(0px 1px 2px rgba(0, 0, 0, 0.3));\n",
              "      fill: #FFFFFF;\n",
              "    }\n",
              "  </style>\n",
              "\n",
              "      <script>\n",
              "        const buttonEl =\n",
              "          document.querySelector('#df-bb874fb4-51a4-456e-9b46-c386f30fa491 button.colab-df-convert');\n",
              "        buttonEl.style.display =\n",
              "          google.colab.kernel.accessAllowed ? 'block' : 'none';\n",
              "\n",
              "        async function convertToInteractive(key) {\n",
              "          const element = document.querySelector('#df-bb874fb4-51a4-456e-9b46-c386f30fa491');\n",
              "          const dataTable =\n",
              "            await google.colab.kernel.invokeFunction('convertToInteractive',\n",
              "                                                     [key], {});\n",
              "          if (!dataTable) return;\n",
              "\n",
              "          const docLinkHtml = 'Like what you see? Visit the ' +\n",
              "            '<a target=\"_blank\" href=https://colab.research.google.com/notebooks/data_table.ipynb>data table notebook</a>'\n",
              "            + ' to learn more about interactive tables.';\n",
              "          element.innerHTML = '';\n",
              "          dataTable['output_type'] = 'display_data';\n",
              "          await google.colab.output.renderOutput(dataTable, element);\n",
              "          const docLink = document.createElement('div');\n",
              "          docLink.innerHTML = docLinkHtml;\n",
              "          element.appendChild(docLink);\n",
              "        }\n",
              "      </script>\n",
              "    </div>\n",
              "  </div>\n",
              "  "
            ]
          },
          "metadata": {},
          "execution_count": 23
        }
      ],
      "source": [
        "df_new = pd.DataFrame({'True_Target': y_test, 'Predicted_target': y_pred})\n",
        "df_new"
      ]
    },
    {
      "cell_type": "markdown",
      "id": "fd7ef648",
      "metadata": {
        "id": "fd7ef648"
      },
      "source": [
        "# Making the Confusion Matrix"
      ]
    },
    {
      "cell_type": "code",
      "execution_count": null,
      "id": "d144f370",
      "metadata": {
        "id": "d144f370"
      },
      "outputs": [],
      "source": [
        "from sklearn.metrics import confusion_matrix, ConfusionMatrixDisplay "
      ]
    },
    {
      "cell_type": "code",
      "execution_count": null,
      "id": "b2cc0002",
      "metadata": {
        "colab": {
          "base_uri": "https://localhost:8080/",
          "height": 108
        },
        "id": "b2cc0002",
        "outputId": "a202abf3-d5bd-425d-84c4-5c30568b40c2"
      },
      "outputs": [
        {
          "output_type": "execute_result",
          "data": {
            "text/plain": [
              "<sklearn.metrics._plot.confusion_matrix.ConfusionMatrixDisplay at 0x7f8413b8ce10>"
            ]
          },
          "metadata": {},
          "execution_count": 25
        },
        {
          "output_type": "display_data",
          "data": {
            "text/plain": [
              "<Figure size 432x288 with 2 Axes>"
            ],
            "image/png": "[encoded data removed]"
          },
          "metadata": {
            "needs_background": "light"
          }
        }
      ],
      "source": [
        "#viewing Confusion matrix in Testing set\n",
        "cnf_matrix_test = confusion_matrix(y_test, y_pred)\n",
        "ConfusionMatrixDisplay(confusion_matrix=cnf_matrix_test, display_labels=SVM.classes_).plot()"
      ]
    },
    {
      "cell_type": "code",
      "execution_count": null,
      "id": "ed664a36",
      "metadata": {
        "colab": {
          "base_uri": "https://localhost:8080/"
        },
        "id": "ed664a36",
        "outputId": "f091994e-3447-4d83-b7e4-46250639832d"
      },
      "outputs": [
        {
          "output_type": "stream",
          "name": "stdout",
          "text": [
            "[[107  10]\n",
            " [  2  52]]\n",
            "The model accuracy is 0.9298245614035088\n"
          ]
        }
      ],
      "source": [
        "from sklearn.metrics import confusion_matrix, accuracy_score\n",
        "accuracy = accuracy_score(y_test, y_pred)\n",
        "cm = confusion_matrix(y_test, y_pred)\n",
        "print(cm)\n",
        "print(\"The model accuracy is\", accuracy )"
      ]
    },
    {
      "cell_type": "code",
      "execution_count": null,
      "id": "5723b005",
      "metadata": {
        "colab": {
          "base_uri": "https://localhost:8080/",
          "height": 108
        },
        "id": "5723b005",
        "outputId": "cb42e7c4-1029-4027-d35a-da530be298ef"
      },
      "outputs": [
        {
          "output_type": "execute_result",
          "data": {
            "text/plain": [
              "<matplotlib.axes._subplots.AxesSubplot at 0x7f8413606150>"
            ]
          },
          "metadata": {},
          "execution_count": 27
        },
        {
          "output_type": "display_data",
          "data": {
            "text/plain": [
              "<Figure size 432x288 with 2 Axes>"
            ],
            "image/png": "[encoded data removed]"
          },
          "metadata": {
            "needs_background": "light"
          }
        }
      ],
      "source": [
        "#this is another method to view confusion matrix, without confusing ourselves.\n",
        "group_names = [\"True Pos\",\"False Pos\",\"False Neg\",\"True Neg\"]\n",
        "group_counts = [\"{0:0.0f}\".format(value) for value in cm.flatten()]\n",
        "group_percentages = [\"{0:.2%}\".format(value) for value in cm.flatten()/np.sum(cm)]\n",
        "labels = [f\"{v1}\\n{v2}\\n{v3}\" for v1, v2, v3 in zip(group_names, group_counts, group_percentages)]\n",
        "labels = np.asarray(labels).reshape(2,2)\n",
        "\n",
        "sns.heatmap(cm, annot=labels, fmt=\"\", cmap='Blues')"
      ]
    },
    {
      "cell_type": "code",
      "execution_count": null,
      "id": "9a24110b",
      "metadata": {
        "colab": {
          "base_uri": "https://localhost:8080/"
        },
        "id": "9a24110b",
        "outputId": "43fa9c81-a940-4cbf-9ed1-c67089f42f2c"
      },
      "outputs": [
        {
          "output_type": "stream",
          "name": "stdout",
          "text": [
            "              precision    recall  f1-score   support\n",
            "\n",
            "           0       0.98      0.91      0.95       117\n",
            "           1       0.84      0.96      0.90        54\n",
            "\n",
            "    accuracy                           0.93       171\n",
            "   macro avg       0.91      0.94      0.92       171\n",
            "weighted avg       0.94      0.93      0.93       171\n",
            "\n"
          ]
        }
      ],
      "source": [
        "from sklearn.metrics import classification_report\n",
        "predictions = SVM.predict(x_test)\n",
        "print(classification_report(y_test, predictions))"
      ]
    },
    {
      "cell_type": "markdown",
      "id": "7151b335",
      "metadata": {
        "id": "7151b335"
      },
      "source": [
        "if the precision , recall  and f1-scores for class 0  are all 0's [which denotes that, the SVM classifier has classified everything to group 1], wemay need to tune the hyper parameter(C and gamma). But we have got good classification without the need of hyper parameter tuning using GridSearch.\n",
        "\n",
        "Even though, we shall proceed with the tuning , just in case."
      ]
    },
    {
      "cell_type": "code",
      "execution_count": null,
      "id": "79290e53",
      "metadata": {
        "colab": {
          "base_uri": "https://localhost:8080/"
        },
        "id": "79290e53",
        "outputId": "58e08cdb-4ea7-4f27-cc64-ffc6458429d1"
      },
      "outputs": [
        {
          "output_type": "stream",
          "name": "stdout",
          "text": [
            "Fitting 5 folds for each of 50 candidates, totalling 250 fits\n",
            "[CV 1/5] END ........C=0.1, gamma=1, kernel=rbf;, score=0.600 total time=   0.0s\n",
            "[CV 2/5] END ........C=0.1, gamma=1, kernel=rbf;, score=0.600 total time=   0.0s\n",
            "[CV 3/5] END ........C=0.1, gamma=1, kernel=rbf;, score=0.600 total time=   0.0s\n",
            "[CV 4/5] END ........C=0.1, gamma=1, kernel=rbf;, score=0.608 total time=   0.0s\n",
            "[CV 5/5] END ........C=0.1, gamma=1, kernel=rbf;, score=0.608 total time=   0.0s\n",
            "[CV 1/5] END ......C=0.1, gamma=0.1, kernel=rbf;, score=0.938 total time=   0.0s\n",
            "[CV 2/5] END ......C=0.1, gamma=0.1, kernel=rbf;, score=0.912 total time=   0.0s\n",
            "[CV 3/5] END ......C=0.1, gamma=0.1, kernel=rbf;, score=0.975 total time=   0.0s\n",
            "[CV 4/5] END ......C=0.1, gamma=0.1, kernel=rbf;, score=0.899 total time=   0.0s\n",
            "[CV 5/5] END ......C=0.1, gamma=0.1, kernel=rbf;, score=0.924 total time=   0.0s\n",
            "[CV 1/5] END .....C=0.1, gamma=0.01, kernel=rbf;, score=0.938 total time=   0.0s\n",
            "[CV 2/5] END .....C=0.1, gamma=0.01, kernel=rbf;, score=0.887 total time=   0.0s\n",
            "[CV 3/5] END .....C=0.1, gamma=0.01, kernel=rbf;, score=0.938 total time=   0.0s\n",
            "[CV 4/5] END .....C=0.1, gamma=0.01, kernel=rbf;, score=0.835 total time=   0.0s\n",
            "[CV 5/5] END .....C=0.1, gamma=0.01, kernel=rbf;, score=0.924 total time=   0.0s\n",
            "[CV 1/5] END ....C=0.1, gamma=0.001, kernel=rbf;, score=0.600 total time=   0.0s\n",
            "[CV 2/5] END ....C=0.1, gamma=0.001, kernel=rbf;, score=0.600 total time=   0.0s\n",
            "[CV 3/5] END ....C=0.1, gamma=0.001, kernel=rbf;, score=0.600 total time=   0.0s\n",
            "[CV 4/5] END ....C=0.1, gamma=0.001, kernel=rbf;, score=0.608 total time=   0.0s\n",
            "[CV 5/5] END ....C=0.1, gamma=0.001, kernel=rbf;, score=0.608 total time=   0.0s\n",
            "[CV 1/5] END ...C=0.1, gamma=0.0001, kernel=rbf;, score=0.600 total time=   0.0s\n",
            "[CV 2/5] END ...C=0.1, gamma=0.0001, kernel=rbf;, score=0.600 total time=   0.0s\n",
            "[CV 3/5] END ...C=0.1, gamma=0.0001, kernel=rbf;, score=0.600 total time=   0.0s\n",
            "[CV 4/5] END ...C=0.1, gamma=0.0001, kernel=rbf;, score=0.608 total time=   0.0s\n",
            "[CV 5/5] END ...C=0.1, gamma=0.0001, kernel=rbf;, score=0.608 total time=   0.0s\n",
            "[CV 1/5] END ........C=0.2, gamma=1, kernel=rbf;, score=0.662 total time=   0.0s\n",
            "[CV 2/5] END ........C=0.2, gamma=1, kernel=rbf;, score=0.625 total time=   0.0s\n",
            "[CV 3/5] END ........C=0.2, gamma=1, kernel=rbf;, score=0.675 total time=   0.0s\n",
            "[CV 4/5] END ........C=0.2, gamma=1, kernel=rbf;, score=0.646 total time=   0.0s\n",
            "[CV 5/5] END ........C=0.2, gamma=1, kernel=rbf;, score=0.646 total time=   0.0s\n",
            "[CV 1/5] END ......C=0.2, gamma=0.1, kernel=rbf;, score=0.963 total time=   0.0s\n",
            "[CV 2/5] END ......C=0.2, gamma=0.1, kernel=rbf;, score=0.925 total time=   0.0s\n",
            "[CV 3/5] END ......C=0.2, gamma=0.1, kernel=rbf;, score=0.975 total time=   0.0s\n",
            "[CV 4/5] END ......C=0.2, gamma=0.1, kernel=rbf;, score=0.899 total time=   0.0s\n",
            "[CV 5/5] END ......C=0.2, gamma=0.1, kernel=rbf;, score=0.924 total time=   0.0s\n",
            "[CV 1/5] END .....C=0.2, gamma=0.01, kernel=rbf;, score=0.938 total time=   0.0s\n",
            "[CV 2/5] END .....C=0.2, gamma=0.01, kernel=rbf;, score=0.900 total time=   0.0s\n",
            "[CV 3/5] END .....C=0.2, gamma=0.01, kernel=rbf;, score=0.938 total time=   0.0s\n",
            "[CV 4/5] END .....C=0.2, gamma=0.01, kernel=rbf;, score=0.886 total time=   0.0s\n",
            "[CV 5/5] END .....C=0.2, gamma=0.01, kernel=rbf;, score=0.924 total time=   0.0s\n",
            "[CV 1/5] END ....C=0.2, gamma=0.001, kernel=rbf;, score=0.700 total time=   0.0s\n",
            "[CV 2/5] END ....C=0.2, gamma=0.001, kernel=rbf;, score=0.700 total time=   0.0s\n",
            "[CV 3/5] END ....C=0.2, gamma=0.001, kernel=rbf;, score=0.650 total time=   0.0s\n",
            "[CV 4/5] END ....C=0.2, gamma=0.001, kernel=rbf;, score=0.658 total time=   0.0s\n",
            "[CV 5/5] END ....C=0.2, gamma=0.001, kernel=rbf;, score=0.722 total time=   0.0s\n",
            "[CV 1/5] END ...C=0.2, gamma=0.0001, kernel=rbf;, score=0.600 total time=   0.0s\n",
            "[CV 2/5] END ...C=0.2, gamma=0.0001, kernel=rbf;, score=0.600 total time=   0.0s\n",
            "[CV 3/5] END ...C=0.2, gamma=0.0001, kernel=rbf;, score=0.600 total time=   0.0s\n",
            "[CV 4/5] END ...C=0.2, gamma=0.0001, kernel=rbf;, score=0.608 total time=   0.0s\n",
            "[CV 5/5] END ...C=0.2, gamma=0.0001, kernel=rbf;, score=0.608 total time=   0.0s\n",
            "[CV 1/5] END ........C=0.3, gamma=1, kernel=rbf;, score=0.812 total time=   0.0s\n",
            "[CV 2/5] END ........C=0.3, gamma=1, kernel=rbf;, score=0.812 total time=   0.0s\n",
            "[CV 3/5] END ........C=0.3, gamma=1, kernel=rbf;, score=0.812 total time=   0.0s\n",
            "[CV 4/5] END ........C=0.3, gamma=1, kernel=rbf;, score=0.747 total time=   0.0s\n",
            "[CV 5/5] END ........C=0.3, gamma=1, kernel=rbf;, score=0.797 total time=   0.0s\n",
            "[CV 1/5] END ......C=0.3, gamma=0.1, kernel=rbf;, score=0.963 total time=   0.0s\n",
            "[CV 2/5] END ......C=0.3, gamma=0.1, kernel=rbf;, score=0.925 total time=   0.0s\n",
            "[CV 3/5] END ......C=0.3, gamma=0.1, kernel=rbf;, score=0.975 total time=   0.0s\n",
            "[CV 4/5] END ......C=0.3, gamma=0.1, kernel=rbf;, score=0.899 total time=   0.0s\n",
            "[CV 5/5] END ......C=0.3, gamma=0.1, kernel=rbf;, score=0.924 total time=   0.0s\n",
            "[CV 1/5] END .....C=0.3, gamma=0.01, kernel=rbf;, score=0.963 total time=   0.0s\n",
            "[CV 2/5] END .....C=0.3, gamma=0.01, kernel=rbf;, score=0.900 total time=   0.0s\n",
            "[CV 3/5] END .....C=0.3, gamma=0.01, kernel=rbf;, score=0.950 total time=   0.0s\n",
            "[CV 4/5] END .....C=0.3, gamma=0.01, kernel=rbf;, score=0.886 total time=   0.0s\n",
            "[CV 5/5] END .....C=0.3, gamma=0.01, kernel=rbf;, score=0.924 total time=   0.0s\n",
            "[CV 1/5] END ....C=0.3, gamma=0.001, kernel=rbf;, score=0.838 total time=   0.0s\n",
            "[CV 2/5] END ....C=0.3, gamma=0.001, kernel=rbf;, score=0.775 total time=   0.0s\n",
            "[CV 3/5] END ....C=0.3, gamma=0.001, kernel=rbf;, score=0.850 total time=   0.0s\n",
            "[CV 4/5] END ....C=0.3, gamma=0.001, kernel=rbf;, score=0.747 total time=   0.0s\n",
            "[CV 5/5] END ....C=0.3, gamma=0.001, kernel=rbf;, score=0.848 total time=   0.0s\n",
            "[CV 1/5] END ...C=0.3, gamma=0.0001, kernel=rbf;, score=0.600 total time=   0.0s\n",
            "[CV 2/5] END ...C=0.3, gamma=0.0001, kernel=rbf;, score=0.600 total time=   0.0s\n",
            "[CV 3/5] END ...C=0.3, gamma=0.0001, kernel=rbf;, score=0.600 total time=   0.0s\n",
            "[CV 4/5] END ...C=0.3, gamma=0.0001, kernel=rbf;, score=0.608 total time=   0.0s\n",
            "[CV 5/5] END ...C=0.3, gamma=0.0001, kernel=rbf;, score=0.608 total time=   0.0s\n",
            "[CV 1/5] END ........C=0.4, gamma=1, kernel=rbf;, score=0.925 total time=   0.0s\n",
            "[CV 2/5] END ........C=0.4, gamma=1, kernel=rbf;, score=0.863 total time=   0.0s\n",
            "[CV 3/5] END ........C=0.4, gamma=1, kernel=rbf;, score=0.900 total time=   0.0s\n",
            "[CV 4/5] END ........C=0.4, gamma=1, kernel=rbf;, score=0.861 total time=   0.0s\n",
            "[CV 5/5] END ........C=0.4, gamma=1, kernel=rbf;, score=0.861 total time=   0.0s\n",
            "[CV 1/5] END ......C=0.4, gamma=0.1, kernel=rbf;, score=0.963 total time=   0.0s\n",
            "[CV 2/5] END ......C=0.4, gamma=0.1, kernel=rbf;, score=0.950 total time=   0.0s\n",
            "[CV 3/5] END ......C=0.4, gamma=0.1, kernel=rbf;, score=0.975 total time=   0.0s\n",
            "[CV 4/5] END ......C=0.4, gamma=0.1, kernel=rbf;, score=0.899 total time=   0.0s\n",
            "[CV 5/5] END ......C=0.4, gamma=0.1, kernel=rbf;, score=0.924 total time=   0.0s\n",
            "[CV 1/5] END .....C=0.4, gamma=0.01, kernel=rbf;, score=0.963 total time=   0.0s\n",
            "[CV 2/5] END .....C=0.4, gamma=0.01, kernel=rbf;, score=0.900 total time=   0.0s\n",
            "[CV 3/5] END .....C=0.4, gamma=0.01, kernel=rbf;, score=0.950 total time=   0.0s\n",
            "[CV 4/5] END .....C=0.4, gamma=0.01, kernel=rbf;, score=0.886 total time=   0.0s\n",
            "[CV 5/5] END .....C=0.4, gamma=0.01, kernel=rbf;, score=0.911 total time=   0.0s\n",
            "[CV 1/5] END ....C=0.4, gamma=0.001, kernel=rbf;, score=0.887 total time=   0.0s\n",
            "[CV 2/5] END ....C=0.4, gamma=0.001, kernel=rbf;, score=0.800 total time=   0.0s\n",
            "[CV 3/5] END ....C=0.4, gamma=0.001, kernel=rbf;, score=0.850 total time=   0.0s\n",
            "[CV 4/5] END ....C=0.4, gamma=0.001, kernel=rbf;, score=0.785 total time=   0.0s\n",
            "[CV 5/5] END ....C=0.4, gamma=0.001, kernel=rbf;, score=0.899 total time=   0.0s\n",
            "[CV 1/5] END ...C=0.4, gamma=0.0001, kernel=rbf;, score=0.600 total time=   0.0s\n",
            "[CV 2/5] END ...C=0.4, gamma=0.0001, kernel=rbf;, score=0.600 total time=   0.0s\n",
            "[CV 3/5] END ...C=0.4, gamma=0.0001, kernel=rbf;, score=0.600 total time=   0.0s\n",
            "[CV 4/5] END ...C=0.4, gamma=0.0001, kernel=rbf;, score=0.608 total time=   0.0s\n",
            "[CV 5/5] END ...C=0.4, gamma=0.0001, kernel=rbf;, score=0.608 total time=   0.0s\n",
            "[CV 1/5] END ........C=0.5, gamma=1, kernel=rbf;, score=0.950 total time=   0.0s\n",
            "[CV 2/5] END ........C=0.5, gamma=1, kernel=rbf;, score=0.887 total time=   0.0s\n",
            "[CV 3/5] END ........C=0.5, gamma=1, kernel=rbf;, score=0.925 total time=   0.0s\n",
            "[CV 4/5] END ........C=0.5, gamma=1, kernel=rbf;, score=0.873 total time=   0.0s\n",
            "[CV 5/5] END ........C=0.5, gamma=1, kernel=rbf;, score=0.911 total time=   0.0s\n",
            "[CV 1/5] END ......C=0.5, gamma=0.1, kernel=rbf;, score=0.975 total time=   0.0s\n",
            "[CV 2/5] END ......C=0.5, gamma=0.1, kernel=rbf;, score=0.950 total time=   0.0s\n",
            "[CV 3/5] END ......C=0.5, gamma=0.1, kernel=rbf;, score=0.975 total time=   0.0s\n",
            "[CV 4/5] END ......C=0.5, gamma=0.1, kernel=rbf;, score=0.911 total time=   0.0s\n",
            "[CV 5/5] END ......C=0.5, gamma=0.1, kernel=rbf;, score=0.924 total time=   0.0s\n",
            "[CV 1/5] END .....C=0.5, gamma=0.01, kernel=rbf;, score=0.963 total time=   0.0s\n",
            "[CV 2/5] END .....C=0.5, gamma=0.01, kernel=rbf;, score=0.900 total time=   0.0s\n",
            "[CV 3/5] END .....C=0.5, gamma=0.01, kernel=rbf;, score=0.950 total time=   0.0s\n",
            "[CV 4/5] END .....C=0.5, gamma=0.01, kernel=rbf;, score=0.899 total time=   0.0s\n",
            "[CV 5/5] END .....C=0.5, gamma=0.01, kernel=rbf;, score=0.924 total time=   0.0s\n",
            "[CV 1/5] END ....C=0.5, gamma=0.001, kernel=rbf;, score=0.900 total time=   0.0s\n",
            "[CV 2/5] END ....C=0.5, gamma=0.001, kernel=rbf;, score=0.812 total time=   0.0s\n",
            "[CV 3/5] END ....C=0.5, gamma=0.001, kernel=rbf;, score=0.900 total time=   0.0s\n",
            "[CV 4/5] END ....C=0.5, gamma=0.001, kernel=rbf;, score=0.797 total time=   0.0s\n",
            "[CV 5/5] END ....C=0.5, gamma=0.001, kernel=rbf;, score=0.911 total time=   0.0s\n",
            "[CV 1/5] END ...C=0.5, gamma=0.0001, kernel=rbf;, score=0.600 total time=   0.0s\n",
            "[CV 2/5] END ...C=0.5, gamma=0.0001, kernel=rbf;, score=0.600 total time=   0.0s\n",
            "[CV 3/5] END ...C=0.5, gamma=0.0001, kernel=rbf;, score=0.600 total time=   0.0s\n",
            "[CV 4/5] END ...C=0.5, gamma=0.0001, kernel=rbf;, score=0.608 total time=   0.0s\n",
            "[CV 5/5] END ...C=0.5, gamma=0.0001, kernel=rbf;, score=0.608 total time=   0.0s\n",
            "[CV 1/5] END ........C=0.6, gamma=1, kernel=rbf;, score=0.963 total time=   0.0s\n",
            "[CV 2/5] END ........C=0.6, gamma=1, kernel=rbf;, score=0.925 total time=   0.0s\n",
            "[CV 3/5] END ........C=0.6, gamma=1, kernel=rbf;, score=0.925 total time=   0.0s\n",
            "[CV 4/5] END ........C=0.6, gamma=1, kernel=rbf;, score=0.899 total time=   0.0s\n",
            "[CV 5/5] END ........C=0.6, gamma=1, kernel=rbf;, score=0.911 total time=   0.0s\n",
            "[CV 1/5] END ......C=0.6, gamma=0.1, kernel=rbf;, score=0.975 total time=   0.0s\n",
            "[CV 2/5] END ......C=0.6, gamma=0.1, kernel=rbf;, score=0.950 total time=   0.0s\n",
            "[CV 3/5] END ......C=0.6, gamma=0.1, kernel=rbf;, score=0.963 total time=   0.0s\n",
            "[CV 4/5] END ......C=0.6, gamma=0.1, kernel=rbf;, score=0.911 total time=   0.0s\n",
            "[CV 5/5] END ......C=0.6, gamma=0.1, kernel=rbf;, score=0.924 total time=   0.0s\n",
            "[CV 1/5] END .....C=0.6, gamma=0.01, kernel=rbf;, score=0.963 total time=   0.0s\n",
            "[CV 2/5] END .....C=0.6, gamma=0.01, kernel=rbf;, score=0.912 total time=   0.0s\n",
            "[CV 3/5] END .....C=0.6, gamma=0.01, kernel=rbf;, score=0.950 total time=   0.0s\n",
            "[CV 4/5] END .....C=0.6, gamma=0.01, kernel=rbf;, score=0.899 total time=   0.0s\n",
            "[CV 5/5] END .....C=0.6, gamma=0.01, kernel=rbf;, score=0.911 total time=   0.0s\n",
            "[CV 1/5] END ....C=0.6, gamma=0.001, kernel=rbf;, score=0.900 total time=   0.0s\n",
            "[CV 2/5] END ....C=0.6, gamma=0.001, kernel=rbf;, score=0.850 total time=   0.0s\n",
            "[CV 3/5] END ....C=0.6, gamma=0.001, kernel=rbf;, score=0.912 total time=   0.0s\n",
            "[CV 4/5] END ....C=0.6, gamma=0.001, kernel=rbf;, score=0.810 total time=   0.0s\n",
            "[CV 5/5] END ....C=0.6, gamma=0.001, kernel=rbf;, score=0.911 total time=   0.0s\n",
            "[CV 1/5] END ...C=0.6, gamma=0.0001, kernel=rbf;, score=0.600 total time=   0.0s\n",
            "[CV 2/5] END ...C=0.6, gamma=0.0001, kernel=rbf;, score=0.600 total time=   0.0s\n",
            "[CV 3/5] END ...C=0.6, gamma=0.0001, kernel=rbf;, score=0.600 total time=   0.0s\n",
            "[CV 4/5] END ...C=0.6, gamma=0.0001, kernel=rbf;, score=0.608 total time=   0.0s\n",
            "[CV 5/5] END ...C=0.6, gamma=0.0001, kernel=rbf;, score=0.608 total time=   0.0s\n",
            "[CV 1/5] END ........C=0.7, gamma=1, kernel=rbf;, score=0.912 total time=   0.0s\n",
            "[CV 2/5] END ........C=0.7, gamma=1, kernel=rbf;, score=0.938 total time=   0.0s\n",
            "[CV 3/5] END ........C=0.7, gamma=1, kernel=rbf;, score=0.950 total time=   0.0s\n",
            "[CV 4/5] END ........C=0.7, gamma=1, kernel=rbf;, score=0.911 total time=   0.0s\n",
            "[CV 5/5] END ........C=0.7, gamma=1, kernel=rbf;, score=0.924 total time=   0.0s\n",
            "[CV 1/5] END ......C=0.7, gamma=0.1, kernel=rbf;, score=0.975 total time=   0.0s\n",
            "[CV 2/5] END ......C=0.7, gamma=0.1, kernel=rbf;, score=0.950 total time=   0.0s\n",
            "[CV 3/5] END ......C=0.7, gamma=0.1, kernel=rbf;, score=0.963 total time=   0.0s\n",
            "[CV 4/5] END ......C=0.7, gamma=0.1, kernel=rbf;, score=0.911 total time=   0.0s\n",
            "[CV 5/5] END ......C=0.7, gamma=0.1, kernel=rbf;, score=0.924 total time=   0.0s\n",
            "[CV 1/5] END .....C=0.7, gamma=0.01, kernel=rbf;, score=0.963 total time=   0.0s\n",
            "[CV 2/5] END .....C=0.7, gamma=0.01, kernel=rbf;, score=0.912 total time=   0.0s\n",
            "[CV 3/5] END .....C=0.7, gamma=0.01, kernel=rbf;, score=0.950 total time=   0.0s\n",
            "[CV 4/5] END .....C=0.7, gamma=0.01, kernel=rbf;, score=0.911 total time=   0.0s\n",
            "[CV 5/5] END .....C=0.7, gamma=0.01, kernel=rbf;, score=0.911 total time=   0.0s\n",
            "[CV 1/5] END ....C=0.7, gamma=0.001, kernel=rbf;, score=0.912 total time=   0.0s\n",
            "[CV 2/5] END ....C=0.7, gamma=0.001, kernel=rbf;, score=0.875 total time=   0.0s\n",
            "[CV 3/5] END ....C=0.7, gamma=0.001, kernel=rbf;, score=0.912 total time=   0.0s\n",
            "[CV 4/5] END ....C=0.7, gamma=0.001, kernel=rbf;, score=0.810 total time=   0.0s\n",
            "[CV 5/5] END ....C=0.7, gamma=0.001, kernel=rbf;, score=0.924 total time=   0.0s\n",
            "[CV 1/5] END ...C=0.7, gamma=0.0001, kernel=rbf;, score=0.600 total time=   0.0s\n",
            "[CV 2/5] END ...C=0.7, gamma=0.0001, kernel=rbf;, score=0.600 total time=   0.0s\n",
            "[CV 3/5] END ...C=0.7, gamma=0.0001, kernel=rbf;, score=0.600 total time=   0.0s\n",
            "[CV 4/5] END ...C=0.7, gamma=0.0001, kernel=rbf;, score=0.608 total time=   0.0s\n",
            "[CV 5/5] END ...C=0.7, gamma=0.0001, kernel=rbf;, score=0.608 total time=   0.0s\n",
            "[CV 1/5] END ........C=0.8, gamma=1, kernel=rbf;, score=0.912 total time=   0.0s\n",
            "[CV 2/5] END ........C=0.8, gamma=1, kernel=rbf;, score=0.950 total time=   0.0s\n",
            "[CV 3/5] END ........C=0.8, gamma=1, kernel=rbf;, score=0.950 total time=   0.0s\n",
            "[CV 4/5] END ........C=0.8, gamma=1, kernel=rbf;, score=0.911 total time=   0.0s\n",
            "[CV 5/5] END ........C=0.8, gamma=1, kernel=rbf;, score=0.924 total time=   0.0s\n",
            "[CV 1/5] END ......C=0.8, gamma=0.1, kernel=rbf;, score=0.975 total time=   0.0s\n",
            "[CV 2/5] END ......C=0.8, gamma=0.1, kernel=rbf;, score=0.950 total time=   0.0s\n",
            "[CV 3/5] END ......C=0.8, gamma=0.1, kernel=rbf;, score=0.950 total time=   0.0s\n",
            "[CV 4/5] END ......C=0.8, gamma=0.1, kernel=rbf;, score=0.924 total time=   0.0s\n",
            "[CV 5/5] END ......C=0.8, gamma=0.1, kernel=rbf;, score=0.937 total time=   0.0s\n",
            "[CV 1/5] END .....C=0.8, gamma=0.01, kernel=rbf;, score=0.963 total time=   0.0s\n",
            "[CV 2/5] END .....C=0.8, gamma=0.01, kernel=rbf;, score=0.912 total time=   0.0s\n",
            "[CV 3/5] END .....C=0.8, gamma=0.01, kernel=rbf;, score=0.950 total time=   0.0s\n",
            "[CV 4/5] END .....C=0.8, gamma=0.01, kernel=rbf;, score=0.911 total time=   0.0s\n",
            "[CV 5/5] END .....C=0.8, gamma=0.01, kernel=rbf;, score=0.924 total time=   0.0s\n",
            "[CV 1/5] END ....C=0.8, gamma=0.001, kernel=rbf;, score=0.912 total time=   0.0s\n",
            "[CV 2/5] END ....C=0.8, gamma=0.001, kernel=rbf;, score=0.875 total time=   0.0s\n",
            "[CV 3/5] END ....C=0.8, gamma=0.001, kernel=rbf;, score=0.925 total time=   0.0s\n",
            "[CV 4/5] END ....C=0.8, gamma=0.001, kernel=rbf;, score=0.810 total time=   0.0s\n",
            "[CV 5/5] END ....C=0.8, gamma=0.001, kernel=rbf;, score=0.924 total time=   0.0s\n",
            "[CV 1/5] END ...C=0.8, gamma=0.0001, kernel=rbf;, score=0.600 total time=   0.0s\n",
            "[CV 2/5] END ...C=0.8, gamma=0.0001, kernel=rbf;, score=0.600 total time=   0.0s\n",
            "[CV 3/5] END ...C=0.8, gamma=0.0001, kernel=rbf;, score=0.600 total time=   0.0s\n",
            "[CV 4/5] END ...C=0.8, gamma=0.0001, kernel=rbf;, score=0.608 total time=   0.0s\n",
            "[CV 5/5] END ...C=0.8, gamma=0.0001, kernel=rbf;, score=0.608 total time=   0.0s\n",
            "[CV 1/5] END ........C=0.9, gamma=1, kernel=rbf;, score=0.900 total time=   0.0s\n",
            "[CV 2/5] END ........C=0.9, gamma=1, kernel=rbf;, score=0.950 total time=   0.0s\n",
            "[CV 3/5] END ........C=0.9, gamma=1, kernel=rbf;, score=0.950 total time=   0.0s\n",
            "[CV 4/5] END ........C=0.9, gamma=1, kernel=rbf;, score=0.911 total time=   0.0s\n",
            "[CV 5/5] END ........C=0.9, gamma=1, kernel=rbf;, score=0.924 total time=   0.0s\n",
            "[CV 1/5] END ......C=0.9, gamma=0.1, kernel=rbf;, score=0.988 total time=   0.0s\n",
            "[CV 2/5] END ......C=0.9, gamma=0.1, kernel=rbf;, score=0.950 total time=   0.0s\n",
            "[CV 3/5] END ......C=0.9, gamma=0.1, kernel=rbf;, score=0.950 total time=   0.0s\n",
            "[CV 4/5] END ......C=0.9, gamma=0.1, kernel=rbf;, score=0.924 total time=   0.0s\n",
            "[CV 5/5] END ......C=0.9, gamma=0.1, kernel=rbf;, score=0.937 total time=   0.0s\n",
            "[CV 1/5] END .....C=0.9, gamma=0.01, kernel=rbf;, score=0.938 total time=   0.0s\n",
            "[CV 2/5] END .....C=0.9, gamma=0.01, kernel=rbf;, score=0.912 total time=   0.0s\n",
            "[CV 3/5] END .....C=0.9, gamma=0.01, kernel=rbf;, score=0.963 total time=   0.0s\n",
            "[CV 4/5] END .....C=0.9, gamma=0.01, kernel=rbf;, score=0.911 total time=   0.0s\n",
            "[CV 5/5] END .....C=0.9, gamma=0.01, kernel=rbf;, score=0.911 total time=   0.0s\n",
            "[CV 1/5] END ....C=0.9, gamma=0.001, kernel=rbf;, score=0.912 total time=   0.0s\n",
            "[CV 2/5] END ....C=0.9, gamma=0.001, kernel=rbf;, score=0.875 total time=   0.0s\n",
            "[CV 3/5] END ....C=0.9, gamma=0.001, kernel=rbf;, score=0.925 total time=   0.0s\n",
            "[CV 4/5] END ....C=0.9, gamma=0.001, kernel=rbf;, score=0.823 total time=   0.0s\n",
            "[CV 5/5] END ....C=0.9, gamma=0.001, kernel=rbf;, score=0.924 total time=   0.0s\n",
            "[CV 1/5] END ...C=0.9, gamma=0.0001, kernel=rbf;, score=0.600 total time=   0.0s\n",
            "[CV 2/5] END ...C=0.9, gamma=0.0001, kernel=rbf;, score=0.600 total time=   0.0s\n",
            "[CV 3/5] END ...C=0.9, gamma=0.0001, kernel=rbf;, score=0.600 total time=   0.0s\n",
            "[CV 4/5] END ...C=0.9, gamma=0.0001, kernel=rbf;, score=0.608 total time=   0.0s\n",
            "[CV 5/5] END ...C=0.9, gamma=0.0001, kernel=rbf;, score=0.608 total time=   0.0s\n",
            "[CV 1/5] END ........C=1.0, gamma=1, kernel=rbf;, score=0.900 total time=   0.0s\n",
            "[CV 2/5] END ........C=1.0, gamma=1, kernel=rbf;, score=0.950 total time=   0.0s\n",
            "[CV 3/5] END ........C=1.0, gamma=1, kernel=rbf;, score=0.950 total time=   0.0s\n",
            "[CV 4/5] END ........C=1.0, gamma=1, kernel=rbf;, score=0.911 total time=   0.0s\n",
            "[CV 5/5] END ........C=1.0, gamma=1, kernel=rbf;, score=0.937 total time=   0.0s\n",
            "[CV 1/5] END ......C=1.0, gamma=0.1, kernel=rbf;, score=0.988 total time=   0.0s\n",
            "[CV 2/5] END ......C=1.0, gamma=0.1, kernel=rbf;, score=0.950 total time=   0.0s\n",
            "[CV 3/5] END ......C=1.0, gamma=0.1, kernel=rbf;, score=0.938 total time=   0.0s\n",
            "[CV 4/5] END ......C=1.0, gamma=0.1, kernel=rbf;, score=0.924 total time=   0.0s\n",
            "[CV 5/5] END ......C=1.0, gamma=0.1, kernel=rbf;, score=0.937 total time=   0.0s\n",
            "[CV 1/5] END .....C=1.0, gamma=0.01, kernel=rbf;, score=0.950 total time=   0.0s\n",
            "[CV 2/5] END .....C=1.0, gamma=0.01, kernel=rbf;, score=0.925 total time=   0.0s\n",
            "[CV 3/5] END .....C=1.0, gamma=0.01, kernel=rbf;, score=0.963 total time=   0.0s\n",
            "[CV 4/5] END .....C=1.0, gamma=0.01, kernel=rbf;, score=0.911 total time=   0.0s\n",
            "[CV 5/5] END .....C=1.0, gamma=0.01, kernel=rbf;, score=0.924 total time=   0.0s\n",
            "[CV 1/5] END ....C=1.0, gamma=0.001, kernel=rbf;, score=0.950 total time=   0.0s\n",
            "[CV 2/5] END ....C=1.0, gamma=0.001, kernel=rbf;, score=0.887 total time=   0.0s\n",
            "[CV 3/5] END ....C=1.0, gamma=0.001, kernel=rbf;, score=0.938 total time=   0.0s\n",
            "[CV 4/5] END ....C=1.0, gamma=0.001, kernel=rbf;, score=0.835 total time=   0.0s\n",
            "[CV 5/5] END ....C=1.0, gamma=0.001, kernel=rbf;, score=0.924 total time=   0.0s\n",
            "[CV 1/5] END ...C=1.0, gamma=0.0001, kernel=rbf;, score=0.600 total time=   0.0s\n",
            "[CV 2/5] END ...C=1.0, gamma=0.0001, kernel=rbf;, score=0.600 total time=   0.0s\n",
            "[CV 3/5] END ...C=1.0, gamma=0.0001, kernel=rbf;, score=0.600 total time=   0.0s\n",
            "[CV 4/5] END ...C=1.0, gamma=0.0001, kernel=rbf;, score=0.608 total time=   0.0s\n",
            "[CV 5/5] END ...C=1.0, gamma=0.0001, kernel=rbf;, score=0.608 total time=   0.0s\n"
          ]
        },
        {
          "output_type": "execute_result",
          "data": {
            "text/plain": [
              "GridSearchCV(estimator=SVC(),\n",
              "             param_grid={'C': [0.1, 0.2, 0.3, 0.4, 0.5, 0.6, 0.7, 0.8, 0.9,\n",
              "                               1.0],\n",
              "                         'gamma': [1, 0.1, 0.01, 0.001, 0.0001],\n",
              "                         'kernel': ['rbf']},\n",
              "             verbose=3)"
            ]
          },
          "metadata": {},
          "execution_count": 29
        }
      ],
      "source": [
        "from sklearn.model_selection import GridSearchCV\n",
        "# defining parameter range\n",
        "param_grid = {'C': [0.1, 0.2,0.3,0.4,0.5,0.6,0.7,0.8,0.9,1.0], \n",
        "              'gamma': [1, 0.1, 0.01, 0.001, 0.0001],\n",
        "              'kernel': ['rbf']} \n",
        " #refitting i to find the best parameter cobination fist with cross vvalidation and again without cross validation. \n",
        "grid = GridSearchCV(SVC(), param_grid, refit = True, verbose = 3) \n",
        "  \n",
        "# fitting the model for grid search\n",
        "grid.fit(x_train, y_train)"
      ]
    },
    {
      "cell_type": "code",
      "execution_count": null,
      "id": "c22f94b0",
      "metadata": {
        "colab": {
          "base_uri": "https://localhost:8080/"
        },
        "id": "c22f94b0",
        "outputId": "8bfeb494-af77-4a6f-ea7e-720865958e84"
      },
      "outputs": [
        {
          "output_type": "stream",
          "name": "stdout",
          "text": [
            "{'C': 0.9, 'gamma': 0.1, 'kernel': 'rbf'}\n",
            "SVC(C=0.9, gamma=0.1)\n"
          ]
        }
      ],
      "source": [
        "# print best parameter after tuning\n",
        "print(grid.best_params_)\n",
        "  \n",
        "# print how our model looks after hyper-parameter tuning\n",
        "print(grid.best_estimator_)"
      ]
    },
    {
      "cell_type": "code",
      "execution_count": null,
      "id": "b6ff3944",
      "metadata": {
        "colab": {
          "base_uri": "https://localhost:8080/"
        },
        "id": "b6ff3944",
        "outputId": "e4dfd3a0-327b-42d4-ffbe-9e9dad018741"
      },
      "outputs": [
        {
          "output_type": "stream",
          "name": "stdout",
          "text": [
            "              precision    recall  f1-score   support\n",
            "\n",
            "           0       0.97      0.95      0.96       117\n",
            "           1       0.89      0.94      0.92        54\n",
            "\n",
            "    accuracy                           0.95       171\n",
            "   macro avg       0.93      0.95      0.94       171\n",
            "weighted avg       0.95      0.95      0.95       171\n",
            "\n"
          ]
        }
      ],
      "source": [
        "grid_predictions = grid.predict(x_test)\n",
        "  \n",
        "# print classification report\n",
        "print(classification_report(y_test, grid_predictions))\n",
        "\n"
      ]
    },
    {
      "cell_type": "markdown",
      "id": "a5cdbf73",
      "metadata": {
        "id": "a5cdbf73"
      },
      "source": [
        "##### with this, again we have got an excellent 95% accuracy for our model."
      ]
    },
    {
      "cell_type": "code",
      "execution_count": null,
      "id": "d1f7d694",
      "metadata": {
        "colab": {
          "base_uri": "https://localhost:8080/",
          "height": 108
        },
        "id": "d1f7d694",
        "outputId": "d33de41f-7bb2-42bf-ff3c-28e0d826d16f"
      },
      "outputs": [
        {
          "output_type": "execute_result",
          "data": {
            "text/plain": [
              "<matplotlib.axes._subplots.AxesSubplot at 0x7f8413590150>"
            ]
          },
          "metadata": {},
          "execution_count": 32
        },
        {
          "output_type": "display_data",
          "data": {
            "text/plain": [
              "<Figure size 432x288 with 2 Axes>"
            ],
            "image/png": "[encoded data removed]"
          },
          "metadata": {
            "needs_background": "light"
          }
        }
      ],
      "source": [
        "#this is another method to view confusion matrix, without confusing ourselves.\n",
        "\n",
        "cm = confusion_matrix(y_test, grid_predictions)\n",
        "\n",
        "group_names = [\"True Pos\",\"False Pos\",\"False Neg\",\"True Neg\"]\n",
        "group_counts = [\"{0:0.0f}\".format(value) for value in cm.flatten()]\n",
        "group_percentages = [\"{0:.2%}\".format(value) for value in cm.flatten()/np.sum(cm)]\n",
        "labels = [f\"{v1}\\n{v2}\\n{v3}\" for v1, v2, v3 in zip(group_names, group_counts, group_percentages)]\n",
        "labels = np.asarray(labels).reshape(2,2)\n",
        "\n",
        "sns.heatmap(cm, annot=labels, fmt=\"\", cmap='Blues')"
      ]
    },
    {
      "cell_type": "markdown",
      "id": "13f85735",
      "metadata": {
        "id": "13f85735"
      },
      "source": [
        "Making a Predictive System"
      ]
    },
    {
      "cell_type": "code",
      "execution_count": null,
      "id": "ce698f1b",
      "metadata": {
        "colab": {
          "base_uri": "https://localhost:8080/"
        },
        "id": "ce698f1b",
        "outputId": "8927dd94-46ac-406b-8cef-85409186abe6"
      },
      "outputs": [
        {
          "output_type": "execute_result",
          "data": {
            "text/plain": [
              "['M',\n",
              " 11.42,\n",
              " 20.38,\n",
              " 77.58,\n",
              " 386.1,\n",
              " 0.1425,\n",
              " 0.2839,\n",
              " 0.2414,\n",
              " 0.1052,\n",
              " 0.2597,\n",
              " 0.09744]"
            ]
          },
          "metadata": {},
          "execution_count": 33
        }
      ],
      "source": [
        "df.iloc[3]. values. tolist()"
      ]
    },
    {
      "cell_type": "code",
      "execution_count": null,
      "id": "898cef16",
      "metadata": {
        "colab": {
          "base_uri": "https://localhost:8080/"
        },
        "id": "898cef16",
        "outputId": "c1faca39-a938-4ec1-8f84-042304abef2f"
      },
      "outputs": [
        {
          "output_type": "stream",
          "name": "stdout",
          "text": [
            "[1]\n",
            "The person has cancer\n"
          ]
        }
      ],
      "source": [
        "input_data = (11.42,\n",
        " 20.38,\n",
        " 77.58,\n",
        " 386.1,\n",
        " 0.1425,\n",
        " 0.2839,\n",
        " 0.2414,\n",
        " 0.1052,\n",
        " 0.2597,\n",
        " 0.09744)\n",
        "\n",
        "# changing the input_data to numpy array\n",
        "input_data_as_numpy_array = np.asarray(input_data)\n",
        "\n",
        "# reshape the array as we are predicting for one instance\n",
        "input_data_reshaped = input_data_as_numpy_array.reshape(1,-1)\n",
        "\n",
        "prediction = SVM.predict(input_data_reshaped)\n",
        "print(prediction)\n",
        "\n",
        "if (prediction[0] == 0):\n",
        "  print('The person is cancer-free')\n",
        "else:\n",
        "  print('The person has cancer')"
      ]
    },
    {
      "cell_type": "markdown",
      "id": "e1b5af94",
      "metadata": {
        "id": "e1b5af94"
      },
      "source": [
        "# Saving the trained model"
      ]
    },
    {
      "cell_type": "code",
      "execution_count": null,
      "id": "4f6443a3",
      "metadata": {
        "id": "4f6443a3"
      },
      "outputs": [],
      "source": [
        "import pickle"
      ]
    },
    {
      "cell_type": "code",
      "execution_count": null,
      "id": "e1318a92",
      "metadata": {
        "id": "e1318a92"
      },
      "outputs": [],
      "source": [
        "filename = 'breast_cancer_trained_model.sav'\n",
        "pickle.dump(SVM, open(filename, 'wb'))"
      ]
    },
    {
      "cell_type": "code",
      "execution_count": null,
      "id": "9635feff",
      "metadata": {
        "id": "9635feff"
      },
      "outputs": [],
      "source": [
        "# loading the saved model\n",
        "loaded_model = pickle.load(open('breast_cancer_trained_model.sav', 'rb'))"
      ]
    },
    {
      "cell_type": "code",
      "execution_count": null,
      "id": "2000fd7e",
      "metadata": {
        "colab": {
          "base_uri": "https://localhost:8080/"
        },
        "id": "2000fd7e",
        "outputId": "4a825268-20d8-4e25-cda3-46b6d0515923"
      },
      "outputs": [
        {
          "output_type": "stream",
          "name": "stdout",
          "text": [
            "[1]\n",
            "The person has cancer\n"
          ]
        }
      ],
      "source": [
        "input_data = (11.42,\n",
        " 20.38,\n",
        " 77.58,\n",
        " 386.1,\n",
        " 0.1425,\n",
        " 0.2839,\n",
        " 0.2414,\n",
        " 0.1052,\n",
        " 0.2597,\n",
        " 0.09744)\n",
        "\n",
        "\n",
        "# changing the input_data to numpy array\n",
        "input_data_as_numpy_array = np.asarray(input_data)\n",
        "\n",
        "# reshape the array as we are predicting for one instance\n",
        "input_data_reshaped = input_data_as_numpy_array.reshape(1,-1)\n",
        "\n",
        "prediction = SVM.predict(input_data_reshaped)\n",
        "print(prediction)\n",
        "\n",
        "if (prediction[0] == 0):\n",
        "  print('The person is cancer-free')\n",
        "else:\n",
        "  print('The person has cancer')"
      ]
    },
    {
      "cell_type": "code",
      "execution_count": null,
      "id": "0e44410a",
      "metadata": {
        "colab": {
          "base_uri": "https://localhost:8080/"
        },
        "id": "0e44410a",
        "outputId": "420d1c17-5d09-4f34-a919-5ad33b48ca8b"
      },
      "outputs": [
        {
          "output_type": "execute_result",
          "data": {
            "text/plain": [
              "Index(['diagnosis', 'radius_mean', 'texture_mean', 'perimeter_mean',\n",
              "       'area_mean', 'smoothness_mean', 'compactness_mean', 'concavity_mean',\n",
              "       'concave points_mean', 'symmetry_mean', 'fractal_dimension_mean'],\n",
              "      dtype='object')"
            ]
          },
          "metadata": {},
          "execution_count": 38
        }
      ],
      "source": [
        "df.columns"
      ]
    },
    {
      "cell_type": "code",
      "execution_count": null,
      "id": "fd6722f8",
      "metadata": {
        "colab": {
          "base_uri": "https://localhost:8080/"
        },
        "id": "fd6722f8",
        "outputId": "66452c55-4781-4eb5-f54d-f001f79afa1e"
      },
      "outputs": [
        {
          "output_type": "stream",
          "name": "stdout",
          "text": [
            "Looking in indexes: https://pypi.org/simple, https://us-python.pkg.dev/colab-wheels/public/simple/\n",
            "Collecting streamlit\n",
            "  Downloading streamlit-1.15.1-py2.py3-none-any.whl (10.3 MB)\n",
            "\u001b[K     |████████████████████████████████| 10.3 MB 4.4 MB/s \n",
            "\u001b[?25hRequirement already satisfied: pyarrow>=4.0 in /usr/local/lib/python3.7/dist-packages (from streamlit) (9.0.0)\n",
            "Requirement already satisfied: typing-extensions>=3.10.0.0 in /usr/local/lib/python3.7/dist-packages (from streamlit) (4.1.1)\n",
            "Requirement already satisfied: altair>=3.2.0 in /usr/local/lib/python3.7/dist-packages (from streamlit) (4.2.0)\n",
            "Requirement already satisfied: packaging>=14.1 in /usr/local/lib/python3.7/dist-packages (from streamlit) (21.3)\n",
            "Collecting rich>=10.11.0\n",
            "  Downloading rich-12.6.0-py3-none-any.whl (237 kB)\n",
            "\u001b[K     |████████████████████████████████| 237 kB 61.8 MB/s \n",
            "\u001b[?25hRequirement already satisfied: python-dateutil in /usr/local/lib/python3.7/dist-packages (from streamlit) (2.8.2)\n",
            "Collecting semver\n",
            "  Downloading semver-2.13.0-py2.py3-none-any.whl (12 kB)\n",
            "Collecting blinker>=1.0.0\n",
            "  Downloading blinker-1.5-py2.py3-none-any.whl (12 kB)\n",
            "Collecting pympler>=0.9\n",
            "  Downloading Pympler-1.0.1-py3-none-any.whl (164 kB)\n",
            "\u001b[K     |████████████████████████████████| 164 kB 48.1 MB/s \n",
            "\u001b[?25hRequirement already satisfied: cachetools>=4.0 in /usr/local/lib/python3.7/dist-packages (from streamlit) (5.2.0)\n",
            "Requirement already satisfied: pillow>=6.2.0 in /usr/local/lib/python3.7/dist-packages (from streamlit) (7.1.2)\n",
            "Requirement already satisfied: click>=7.0 in /usr/local/lib/python3.7/dist-packages (from streamlit) (7.1.2)\n",
            "Requirement already satisfied: requests>=2.4 in /usr/local/lib/python3.7/dist-packages (from streamlit) (2.23.0)\n",
            "Requirement already satisfied: numpy in /usr/local/lib/python3.7/dist-packages (from streamlit) (1.21.6)\n",
            "Requirement already satisfied: toml in /usr/local/lib/python3.7/dist-packages (from streamlit) (0.10.2)\n",
            "Collecting watchdog\n",
            "  Downloading watchdog-2.1.9-py3-none-manylinux2014_x86_64.whl (78 kB)\n",
            "\u001b[K     |████████████████████████████████| 78 kB 6.7 MB/s \n",
            "\u001b[?25hRequirement already satisfied: tzlocal>=1.1 in /usr/local/lib/python3.7/dist-packages (from streamlit) (1.5.1)\n",
            "Collecting gitpython!=3.1.19\n",
            "  Downloading GitPython-3.1.29-py3-none-any.whl (182 kB)\n",
            "\u001b[K     |████████████████████████████████| 182 kB 68.4 MB/s \n",
            "\u001b[?25hRequirement already satisfied: tornado>=5.0 in /usr/local/lib/python3.7/dist-packages (from streamlit) (6.0.4)\n",
            "Collecting validators>=0.2\n",
            "  Downloading validators-0.20.0.tar.gz (30 kB)\n",
            "Requirement already satisfied: importlib-metadata>=1.4 in /usr/local/lib/python3.7/dist-packages (from streamlit) (4.13.0)\n",
            "Requirement already satisfied: pandas>=0.21.0 in /usr/local/lib/python3.7/dist-packages (from streamlit) (1.3.5)\n",
            "Requirement already satisfied: protobuf<4,>=3.12 in /usr/local/lib/python3.7/dist-packages (from streamlit) (3.19.6)\n",
            "Collecting pydeck>=0.1.dev5\n",
            "  Downloading pydeck-0.8.0-py2.py3-none-any.whl (4.7 MB)\n",
            "\u001b[K     |████████████████████████████████| 4.7 MB 19.1 MB/s \n",
            "\u001b[?25hRequirement already satisfied: entrypoints in /usr/local/lib/python3.7/dist-packages (from altair>=3.2.0->streamlit) (0.4)\n",
            "Requirement already satisfied: toolz in /usr/local/lib/python3.7/dist-packages (from altair>=3.2.0->streamlit) (0.12.0)\n",
            "Requirement already satisfied: jsonschema>=3.0 in /usr/local/lib/python3.7/dist-packages (from altair>=3.2.0->streamlit) (4.3.3)\n",
            "Requirement already satisfied: jinja2 in /usr/local/lib/python3.7/dist-packages (from altair>=3.2.0->streamlit) (2.11.3)\n",
            "Collecting gitdb<5,>=4.0.1\n",
            "  Downloading gitdb-4.0.10-py3-none-any.whl (62 kB)\n",
            "\u001b[K     |████████████████████████████████| 62 kB 1.4 MB/s \n",
            "\u001b[?25hCollecting smmap<6,>=3.0.1\n",
            "  Downloading smmap-5.0.0-py3-none-any.whl (24 kB)\n",
            "Requirement already satisfied: zipp>=0.5 in /usr/local/lib/python3.7/dist-packages (from importlib-metadata>=1.4->streamlit) (3.10.0)\n",
            "Requirement already satisfied: pyrsistent!=0.17.0,!=0.17.1,!=0.17.2,>=0.14.0 in /usr/local/lib/python3.7/dist-packages (from jsonschema>=3.0->altair>=3.2.0->streamlit) (0.19.2)\n",
            "Requirement already satisfied: attrs>=17.4.0 in /usr/local/lib/python3.7/dist-packages (from jsonschema>=3.0->altair>=3.2.0->streamlit) (22.1.0)\n",
            "Requirement already satisfied: importlib-resources>=1.4.0 in /usr/local/lib/python3.7/dist-packages (from jsonschema>=3.0->altair>=3.2.0->streamlit) (5.10.0)\n",
            "Requirement already satisfied: pyparsing!=3.0.5,>=2.0.2 in /usr/local/lib/python3.7/dist-packages (from packaging>=14.1->streamlit) (3.0.9)\n",
            "Requirement already satisfied: pytz>=2017.3 in /usr/local/lib/python3.7/dist-packages (from pandas>=0.21.0->streamlit) (2022.6)\n",
            "Requirement already satisfied: MarkupSafe>=0.23 in /usr/local/lib/python3.7/dist-packages (from jinja2->altair>=3.2.0->streamlit) (2.0.1)\n",
            "Requirement already satisfied: six>=1.5 in /usr/local/lib/python3.7/dist-packages (from python-dateutil->streamlit) (1.15.0)\n",
            "Requirement already satisfied: certifi>=2017.4.17 in /usr/local/lib/python3.7/dist-packages (from requests>=2.4->streamlit) (2022.9.24)\n",
            "Requirement already satisfied: idna<3,>=2.5 in /usr/local/lib/python3.7/dist-packages (from requests>=2.4->streamlit) (2.10)\n",
            "Requirement already satisfied: urllib3!=1.25.0,!=1.25.1,<1.26,>=1.21.1 in /usr/local/lib/python3.7/dist-packages (from requests>=2.4->streamlit) (1.24.3)\n",
            "Requirement already satisfied: chardet<4,>=3.0.2 in /usr/local/lib/python3.7/dist-packages (from requests>=2.4->streamlit) (3.0.4)\n",
            "Collecting commonmark<0.10.0,>=0.9.0\n",
            "  Downloading commonmark-0.9.1-py2.py3-none-any.whl (51 kB)\n",
            "\u001b[K     |████████████████████████████████| 51 kB 8.4 MB/s \n",
            "\u001b[?25hRequirement already satisfied: pygments<3.0.0,>=2.6.0 in /usr/local/lib/python3.7/dist-packages (from rich>=10.11.0->streamlit) (2.6.1)\n",
            "Requirement already satisfied: decorator>=3.4.0 in /usr/local/lib/python3.7/dist-packages (from validators>=0.2->streamlit) (4.4.2)\n",
            "Building wheels for collected packages: validators\n",
            "  Building wheel for validators (setup.py) ... \u001b[?25l\u001b[?25hdone\n",
            "  Created wheel for validators: filename=validators-0.20.0-py3-none-any.whl size=19581 sha256=e0dfc51781bb2f5243ed5dfa6d7c7956556010549d49203b848fb9611b4b5c71\n",
            "  Stored in directory: /root/.cache/pip/wheels/5f/55/ab/36a76989f7f88d9ca7b1f68da6d94252bb6a8d6ad4f18e04e9\n",
            "Successfully built validators\n",
            "Installing collected packages: smmap, gitdb, commonmark, watchdog, validators, semver, rich, pympler, pydeck, gitpython, blinker, streamlit\n",
            "Successfully installed blinker-1.5 commonmark-0.9.1 gitdb-4.0.10 gitpython-3.1.29 pydeck-0.8.0 pympler-1.0.1 rich-12.6.0 semver-2.13.0 smmap-5.0.0 streamlit-1.15.1 validators-0.20.0 watchdog-2.1.9\n"
          ]
        }
      ],
      "source": [
        "!pip install streamlit"
      ]
    },
    {
      "cell_type": "markdown",
      "source": [
        "#Run the below block of code in spyder\n",
        "#Then run the streamlit app in conda terminal after creating a new envionment  with required packages installed "
      ],
      "metadata": {
        "id": "VyDiuQpFhjIv"
      },
      "id": "VyDiuQpFhjIv"
    },
    {
      "cell_type": "code",
      "execution_count": null,
      "id": "9fe2d30f",
      "metadata": {
        "id": "9fe2d30f"
      },
      "outputs": [],
      "source": [
        "\n",
        "import numpy as np\n",
        "import pickle\n",
        "import streamlit as st\n",
        "\n",
        "\n",
        "# loading the saved model\n",
        "loaded_model = pickle.load(open('breast_cancer_trained_model.sav', 'rb'))\n",
        "\n",
        "\n",
        "# creating a function for Prediction\n",
        "\n",
        "def cancer_prediction(input_data):\n",
        "    \n",
        "\n",
        "    # changing the input_data to numpy array\n",
        "    input_data_as_numpy_array = np.asarray(input_data)\n",
        "\n",
        "    # reshape the array as we are predicting for one instance\n",
        "    input_data_reshaped = input_data_as_numpy_array.reshape(1,-1)\n",
        "    \n",
        "    #if data need to be scaled do it here\n",
        "    #input_data_reshaped = std.transform(input_data_reshaped)\n",
        "\n",
        "    prediction = loaded_model.predict(input_data_reshaped)\n",
        "    print(prediction)\n",
        "\n",
        "    if (prediction[0] == 0):\n",
        "      return 'The person is cancer-free'\n",
        "    else:\n",
        "      return 'The person has cancer'\n",
        "  \n",
        "    \n",
        "  \n",
        "def main():\n",
        "    \n",
        "    \n",
        "    # giving a title\n",
        "    st.title('Breast cancer Prediction Web App')\n",
        "    \n",
        "    \n",
        "    # getting the input data from the user\n",
        "    radius_mean =st.text_input('radius')\n",
        "    texture_mean =st.text_input('texture')\n",
        "    perimeter_mean=st.text_input('perimeter')\n",
        "    area_mean=st.text_input('area')\n",
        "    smoothness_mean=st.text_input('smoothness')\n",
        "    compactness_mean=st.text_input('compactness')\n",
        "    concavity_mean=st.text_input('concavity')\n",
        "    concave_points_mean=st.text_input('concave points')\n",
        "    symmetry_mean=st.text_input('Symmetry')\n",
        "    fractal_dimension_mean=st.text_input('fractal dimension')\n",
        "    \n",
        "    \n",
        "  \n",
        "    \n",
        "    # code for Prediction\n",
        "    diagnosis = ''\n",
        "    \n",
        "    # creating a button for Prediction\n",
        "    \n",
        "    if st.button('Cancer Test Result'):\n",
        "        diagnosis = cancer_prediction([radius_mean, texture_mean, perimeter_mean,area_mean, smoothness_mean, compactness_mean, concavity_mean,\n",
        "       concave_points_mean, symmetry_mean, fractal_dimension_mean])\n",
        "        \n",
        "        \n",
        "    st.success(diagnosis)\n",
        "    \n",
        "    \n",
        "    \n",
        "    \n",
        "    \n",
        "if __name__ == '__main__':\n",
        "    main()\n",
        "    "
      ]
    },
    {
      "cell_type": "code",
      "execution_count": null,
      "id": "c368a6e3",
      "metadata": {
        "id": "c368a6e3"
      },
      "outputs": [],
      "source": []
    }
  ],
  "metadata": {
    "kernelspec": {
      "display_name": "Python 3 (ipykernel)",
      "language": "python",
      "name": "python3"
    },
    "language_info": {
      "codemirror_mode": {
        "name": "ipython",
        "version": 3
      },
      "file_extension": ".py",
      "mimetype": "text/x-python",
      "name": "python",
      "nbconvert_exporter": "python",
      "pygments_lexer": "ipython3",
      "version": "3.9.13"
    },
    "vscode": {
      "interpreter": {
        "hash": "951fb870a7bdc95aa344f893da8a17440a5163fadf490fffe8321e81371bc7a2"
      }
    },
    "colab": {
      "provenance": []
    }
  },
  "nbformat": 4,
  "nbformat_minor": 5
}